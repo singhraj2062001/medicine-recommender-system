{
 "cells": [
  {
   "cell_type": "code",
   "execution_count": 1,
   "id": "daac5940",
   "metadata": {
    "_cell_guid": "b1076dfc-b9ad-4769-8c92-a6c4dae69d19",
    "_uuid": "8f2839f25d086af736a60e9eeb907d3b93b6e0e5",
    "execution": {
     "iopub.execute_input": "2023-10-06T09:37:02.130913Z",
     "iopub.status.busy": "2023-10-06T09:37:02.130485Z",
     "iopub.status.idle": "2023-10-06T09:37:02.548687Z",
     "shell.execute_reply": "2023-10-06T09:37:02.547305Z"
    },
    "papermill": {
     "duration": 0.434243,
     "end_time": "2023-10-06T09:37:02.551639",
     "exception": false,
     "start_time": "2023-10-06T09:37:02.117396",
     "status": "completed"
    },
    "tags": []
   },
   "outputs": [
    {
     "name": "stdout",
     "output_type": "stream",
     "text": [
      "/kaggle/input/11000-medicine-details/Medicine_Details.csv\n"
     ]
    }
   ],
   "source": [
    "# This Python 3 environment comes with many helpful analytics libraries installed\n",
    "# It is defined by the kaggle/python Docker image: https://github.com/kaggle/docker-python\n",
    "# For example, here's several helpful packages to load\n",
    "\n",
    "import numpy as np # linear algebra\n",
    "import pandas as pd # data processing, CSV file I/O (e.g. pd.read_csv)\n",
    "\n",
    "# Input data files are available in the read-only \"../input/\" directory\n",
    "# For example, running this (by clicking run or pressing Shift+Enter) will list all files under the input directory\n",
    "\n",
    "import os\n",
    "for dirname, _, filenames in os.walk('/kaggle/input'):\n",
    "    for filename in filenames:\n",
    "        print(os.path.join(dirname, filename))\n",
    "\n",
    "# You can write up to 20GB to the current directory (/kaggle/working/) that gets preserved as output when you create a version using \"Save & Run All\" \n",
    "# You can also write temporary files to /kaggle/temp/, but they won't be saved outside of the current session"
   ]
  },
  {
   "cell_type": "code",
   "execution_count": 2,
   "id": "5da38ccb",
   "metadata": {
    "execution": {
     "iopub.execute_input": "2023-10-06T09:37:02.576558Z",
     "iopub.status.busy": "2023-10-06T09:37:02.575917Z",
     "iopub.status.idle": "2023-10-06T09:37:02.728780Z",
     "shell.execute_reply": "2023-10-06T09:37:02.727537Z"
    },
    "papermill": {
     "duration": 0.167992,
     "end_time": "2023-10-06T09:37:02.731278",
     "exception": false,
     "start_time": "2023-10-06T09:37:02.563286",
     "status": "completed"
    },
    "tags": []
   },
   "outputs": [],
   "source": [
    "meds = pd.read_csv('/kaggle/input/11000-medicine-details/Medicine_Details.csv')"
   ]
  },
  {
   "cell_type": "code",
   "execution_count": 3,
   "id": "9f91eebf",
   "metadata": {
    "execution": {
     "iopub.execute_input": "2023-10-06T09:37:02.754275Z",
     "iopub.status.busy": "2023-10-06T09:37:02.753888Z",
     "iopub.status.idle": "2023-10-06T09:37:02.784610Z",
     "shell.execute_reply": "2023-10-06T09:37:02.783473Z"
    },
    "papermill": {
     "duration": 0.045304,
     "end_time": "2023-10-06T09:37:02.787221",
     "exception": false,
     "start_time": "2023-10-06T09:37:02.741917",
     "status": "completed"
    },
    "tags": []
   },
   "outputs": [
    {
     "data": {
      "text/html": [
       "<div>\n",
       "<style scoped>\n",
       "    .dataframe tbody tr th:only-of-type {\n",
       "        vertical-align: middle;\n",
       "    }\n",
       "\n",
       "    .dataframe tbody tr th {\n",
       "        vertical-align: top;\n",
       "    }\n",
       "\n",
       "    .dataframe thead th {\n",
       "        text-align: right;\n",
       "    }\n",
       "</style>\n",
       "<table border=\"1\" class=\"dataframe\">\n",
       "  <thead>\n",
       "    <tr style=\"text-align: right;\">\n",
       "      <th></th>\n",
       "      <th>Medicine Name</th>\n",
       "      <th>Composition</th>\n",
       "      <th>Uses</th>\n",
       "      <th>Side_effects</th>\n",
       "      <th>Image URL</th>\n",
       "      <th>Manufacturer</th>\n",
       "      <th>Excellent Review %</th>\n",
       "      <th>Average Review %</th>\n",
       "      <th>Poor Review %</th>\n",
       "    </tr>\n",
       "  </thead>\n",
       "  <tbody>\n",
       "    <tr>\n",
       "      <th>0</th>\n",
       "      <td>Avastin 400mg Injection</td>\n",
       "      <td>Bevacizumab (400mg)</td>\n",
       "      <td>Cancer of colon and rectum Non-small cell lun...</td>\n",
       "      <td>Rectal bleeding Taste change Headache Noseblee...</td>\n",
       "      <td>https://onemg.gumlet.io/l_watermark_346,w_480,...</td>\n",
       "      <td>Roche Products India Pvt Ltd</td>\n",
       "      <td>22</td>\n",
       "      <td>56</td>\n",
       "      <td>22</td>\n",
       "    </tr>\n",
       "    <tr>\n",
       "      <th>1</th>\n",
       "      <td>Augmentin 625 Duo Tablet</td>\n",
       "      <td>Amoxycillin  (500mg) +  Clavulanic Acid (125mg)</td>\n",
       "      <td>Treatment of Bacterial infections</td>\n",
       "      <td>Vomiting Nausea Diarrhea Mucocutaneous candidi...</td>\n",
       "      <td>https://onemg.gumlet.io/l_watermark_346,w_480,...</td>\n",
       "      <td>Glaxo SmithKline Pharmaceuticals Ltd</td>\n",
       "      <td>47</td>\n",
       "      <td>35</td>\n",
       "      <td>18</td>\n",
       "    </tr>\n",
       "    <tr>\n",
       "      <th>2</th>\n",
       "      <td>Azithral 500 Tablet</td>\n",
       "      <td>Azithromycin (500mg)</td>\n",
       "      <td>Treatment of Bacterial infections</td>\n",
       "      <td>Nausea Abdominal pain Diarrhea</td>\n",
       "      <td>https://onemg.gumlet.io/l_watermark_346,w_480,...</td>\n",
       "      <td>Alembic Pharmaceuticals Ltd</td>\n",
       "      <td>39</td>\n",
       "      <td>40</td>\n",
       "      <td>21</td>\n",
       "    </tr>\n",
       "    <tr>\n",
       "      <th>3</th>\n",
       "      <td>Ascoril LS Syrup</td>\n",
       "      <td>Ambroxol (30mg/5ml) + Levosalbutamol (1mg/5ml)...</td>\n",
       "      <td>Treatment of Cough with mucus</td>\n",
       "      <td>Nausea Vomiting Diarrhea Upset stomach Stomach...</td>\n",
       "      <td>https://onemg.gumlet.io/l_watermark_346,w_480,...</td>\n",
       "      <td>Glenmark Pharmaceuticals Ltd</td>\n",
       "      <td>24</td>\n",
       "      <td>41</td>\n",
       "      <td>35</td>\n",
       "    </tr>\n",
       "    <tr>\n",
       "      <th>4</th>\n",
       "      <td>Aciloc 150 Tablet</td>\n",
       "      <td>Ranitidine (150mg)</td>\n",
       "      <td>Treatment of Gastroesophageal reflux disease (...</td>\n",
       "      <td>Headache Diarrhea Gastrointestinal disturbance</td>\n",
       "      <td>https://onemg.gumlet.io/l_watermark_346,w_480,...</td>\n",
       "      <td>Cadila Pharmaceuticals Ltd</td>\n",
       "      <td>34</td>\n",
       "      <td>37</td>\n",
       "      <td>29</td>\n",
       "    </tr>\n",
       "    <tr>\n",
       "      <th>...</th>\n",
       "      <td>...</td>\n",
       "      <td>...</td>\n",
       "      <td>...</td>\n",
       "      <td>...</td>\n",
       "      <td>...</td>\n",
       "      <td>...</td>\n",
       "      <td>...</td>\n",
       "      <td>...</td>\n",
       "      <td>...</td>\n",
       "    </tr>\n",
       "    <tr>\n",
       "      <th>11820</th>\n",
       "      <td>Zilarta-CT 40/6.25 Tablet</td>\n",
       "      <td>Azilsartan medoxomil (40mg) + Chlorthalidone (...</td>\n",
       "      <td>Hypertension (high blood pressure)</td>\n",
       "      <td>Dizziness Tiredness Decreased potassium level ...</td>\n",
       "      <td>https://onemg.gumlet.io/l_watermark_346,w_480,...</td>\n",
       "      <td>Micro Labs Ltd</td>\n",
       "      <td>67</td>\n",
       "      <td>33</td>\n",
       "      <td>0</td>\n",
       "    </tr>\n",
       "    <tr>\n",
       "      <th>11821</th>\n",
       "      <td>Zipcoz Tablet</td>\n",
       "      <td>Chromium Picolinate (100mcg) + D-Chiro Inosito...</td>\n",
       "      <td>Polycystic ovarian syndrome (PCOS)</td>\n",
       "      <td>Rash Nausea Paresthesia tingling or pricking s...</td>\n",
       "      <td>https://onemg.gumlet.io/l_watermark_346,w_480,...</td>\n",
       "      <td>Lifeline Remedies India Pvt Ltd</td>\n",
       "      <td>0</td>\n",
       "      <td>80</td>\n",
       "      <td>20</td>\n",
       "    </tr>\n",
       "    <tr>\n",
       "      <th>11822</th>\n",
       "      <td>Zestasil 100 Tablet</td>\n",
       "      <td>Sildenafil (100mg)</td>\n",
       "      <td>Treatment of Erectile dysfunction</td>\n",
       "      <td>Flushing sense of warmth in the face ears neck...</td>\n",
       "      <td>https://onemg.gumlet.io/l_watermark_346,w_480,...</td>\n",
       "      <td>TBG pharma ltd</td>\n",
       "      <td>25</td>\n",
       "      <td>75</td>\n",
       "      <td>0</td>\n",
       "    </tr>\n",
       "    <tr>\n",
       "      <th>11823</th>\n",
       "      <td>Zedruff Shampoo</td>\n",
       "      <td>Ketoconazole (2% w/v) + Zinc pyrithione (1% w/v)</td>\n",
       "      <td>Treatment of Dandruff</td>\n",
       "      <td>Application site reactions burning irritation ...</td>\n",
       "      <td>https://onemg.gumlet.io/l_watermark_346,w_480,...</td>\n",
       "      <td>Minova Life Sciences Pvt Ltd</td>\n",
       "      <td>0</td>\n",
       "      <td>0</td>\n",
       "      <td>100</td>\n",
       "    </tr>\n",
       "    <tr>\n",
       "      <th>11824</th>\n",
       "      <td>Zedruff Shampoo</td>\n",
       "      <td>Ketoconazole (2% w/v) + Zinc pyrithione (1% w/v)</td>\n",
       "      <td>Treatment of Dandruff</td>\n",
       "      <td>Application site reactions burning irritation ...</td>\n",
       "      <td>https://onemg.gumlet.io/l_watermark_346,w_480,...</td>\n",
       "      <td>Minova Life Sciences Pvt Ltd</td>\n",
       "      <td>0</td>\n",
       "      <td>0</td>\n",
       "      <td>100</td>\n",
       "    </tr>\n",
       "  </tbody>\n",
       "</table>\n",
       "<p>11825 rows × 9 columns</p>\n",
       "</div>"
      ],
      "text/plain": [
       "                   Medicine Name  \\\n",
       "0        Avastin 400mg Injection   \n",
       "1       Augmentin 625 Duo Tablet   \n",
       "2            Azithral 500 Tablet   \n",
       "3               Ascoril LS Syrup   \n",
       "4              Aciloc 150 Tablet   \n",
       "...                          ...   \n",
       "11820  Zilarta-CT 40/6.25 Tablet   \n",
       "11821              Zipcoz Tablet   \n",
       "11822        Zestasil 100 Tablet   \n",
       "11823            Zedruff Shampoo   \n",
       "11824            Zedruff Shampoo   \n",
       "\n",
       "                                             Composition  \\\n",
       "0                                    Bevacizumab (400mg)   \n",
       "1        Amoxycillin  (500mg) +  Clavulanic Acid (125mg)   \n",
       "2                                   Azithromycin (500mg)   \n",
       "3      Ambroxol (30mg/5ml) + Levosalbutamol (1mg/5ml)...   \n",
       "4                                     Ranitidine (150mg)   \n",
       "...                                                  ...   \n",
       "11820  Azilsartan medoxomil (40mg) + Chlorthalidone (...   \n",
       "11821  Chromium Picolinate (100mcg) + D-Chiro Inosito...   \n",
       "11822                                 Sildenafil (100mg)   \n",
       "11823   Ketoconazole (2% w/v) + Zinc pyrithione (1% w/v)   \n",
       "11824   Ketoconazole (2% w/v) + Zinc pyrithione (1% w/v)   \n",
       "\n",
       "                                                    Uses  \\\n",
       "0       Cancer of colon and rectum Non-small cell lun...   \n",
       "1                      Treatment of Bacterial infections   \n",
       "2                      Treatment of Bacterial infections   \n",
       "3                          Treatment of Cough with mucus   \n",
       "4      Treatment of Gastroesophageal reflux disease (...   \n",
       "...                                                  ...   \n",
       "11820                 Hypertension (high blood pressure)   \n",
       "11821                 Polycystic ovarian syndrome (PCOS)   \n",
       "11822                  Treatment of Erectile dysfunction   \n",
       "11823                              Treatment of Dandruff   \n",
       "11824                              Treatment of Dandruff   \n",
       "\n",
       "                                            Side_effects  \\\n",
       "0      Rectal bleeding Taste change Headache Noseblee...   \n",
       "1      Vomiting Nausea Diarrhea Mucocutaneous candidi...   \n",
       "2                         Nausea Abdominal pain Diarrhea   \n",
       "3      Nausea Vomiting Diarrhea Upset stomach Stomach...   \n",
       "4         Headache Diarrhea Gastrointestinal disturbance   \n",
       "...                                                  ...   \n",
       "11820  Dizziness Tiredness Decreased potassium level ...   \n",
       "11821  Rash Nausea Paresthesia tingling or pricking s...   \n",
       "11822  Flushing sense of warmth in the face ears neck...   \n",
       "11823  Application site reactions burning irritation ...   \n",
       "11824  Application site reactions burning irritation ...   \n",
       "\n",
       "                                               Image URL  \\\n",
       "0      https://onemg.gumlet.io/l_watermark_346,w_480,...   \n",
       "1      https://onemg.gumlet.io/l_watermark_346,w_480,...   \n",
       "2      https://onemg.gumlet.io/l_watermark_346,w_480,...   \n",
       "3      https://onemg.gumlet.io/l_watermark_346,w_480,...   \n",
       "4      https://onemg.gumlet.io/l_watermark_346,w_480,...   \n",
       "...                                                  ...   \n",
       "11820  https://onemg.gumlet.io/l_watermark_346,w_480,...   \n",
       "11821  https://onemg.gumlet.io/l_watermark_346,w_480,...   \n",
       "11822  https://onemg.gumlet.io/l_watermark_346,w_480,...   \n",
       "11823  https://onemg.gumlet.io/l_watermark_346,w_480,...   \n",
       "11824  https://onemg.gumlet.io/l_watermark_346,w_480,...   \n",
       "\n",
       "                               Manufacturer  Excellent Review %  \\\n",
       "0              Roche Products India Pvt Ltd                  22   \n",
       "1      Glaxo SmithKline Pharmaceuticals Ltd                  47   \n",
       "2               Alembic Pharmaceuticals Ltd                  39   \n",
       "3              Glenmark Pharmaceuticals Ltd                  24   \n",
       "4                Cadila Pharmaceuticals Ltd                  34   \n",
       "...                                     ...                 ...   \n",
       "11820                        Micro Labs Ltd                  67   \n",
       "11821       Lifeline Remedies India Pvt Ltd                   0   \n",
       "11822                        TBG pharma ltd                  25   \n",
       "11823          Minova Life Sciences Pvt Ltd                   0   \n",
       "11824          Minova Life Sciences Pvt Ltd                   0   \n",
       "\n",
       "       Average Review %  Poor Review %  \n",
       "0                    56             22  \n",
       "1                    35             18  \n",
       "2                    40             21  \n",
       "3                    41             35  \n",
       "4                    37             29  \n",
       "...                 ...            ...  \n",
       "11820                33              0  \n",
       "11821                80             20  \n",
       "11822                75              0  \n",
       "11823                 0            100  \n",
       "11824                 0            100  \n",
       "\n",
       "[11825 rows x 9 columns]"
      ]
     },
     "execution_count": 3,
     "metadata": {},
     "output_type": "execute_result"
    }
   ],
   "source": [
    "meds"
   ]
  },
  {
   "cell_type": "code",
   "execution_count": 4,
   "id": "1ae94eb3",
   "metadata": {
    "execution": {
     "iopub.execute_input": "2023-10-06T09:37:02.812592Z",
     "iopub.status.busy": "2023-10-06T09:37:02.811460Z",
     "iopub.status.idle": "2023-10-06T09:37:02.836496Z",
     "shell.execute_reply": "2023-10-06T09:37:02.835464Z"
    },
    "papermill": {
     "duration": 0.040657,
     "end_time": "2023-10-06T09:37:02.839070",
     "exception": false,
     "start_time": "2023-10-06T09:37:02.798413",
     "status": "completed"
    },
    "tags": []
   },
   "outputs": [
    {
     "data": {
      "text/html": [
       "<div>\n",
       "<style scoped>\n",
       "    .dataframe tbody tr th:only-of-type {\n",
       "        vertical-align: middle;\n",
       "    }\n",
       "\n",
       "    .dataframe tbody tr th {\n",
       "        vertical-align: top;\n",
       "    }\n",
       "\n",
       "    .dataframe thead th {\n",
       "        text-align: right;\n",
       "    }\n",
       "</style>\n",
       "<table border=\"1\" class=\"dataframe\">\n",
       "  <thead>\n",
       "    <tr style=\"text-align: right;\">\n",
       "      <th></th>\n",
       "      <th>Medicine Name</th>\n",
       "      <th>Composition</th>\n",
       "      <th>Uses</th>\n",
       "      <th>Image URL</th>\n",
       "      <th>Manufacturer</th>\n",
       "      <th>Excellent Review %</th>\n",
       "      <th>Average Review %</th>\n",
       "      <th>Poor Review %</th>\n",
       "    </tr>\n",
       "  </thead>\n",
       "  <tbody>\n",
       "    <tr>\n",
       "      <th>0</th>\n",
       "      <td>Avastin 400mg Injection</td>\n",
       "      <td>Bevacizumab (400mg)</td>\n",
       "      <td>Cancer of colon and rectum Non-small cell lun...</td>\n",
       "      <td>https://onemg.gumlet.io/l_watermark_346,w_480,...</td>\n",
       "      <td>Roche Products India Pvt Ltd</td>\n",
       "      <td>22</td>\n",
       "      <td>56</td>\n",
       "      <td>22</td>\n",
       "    </tr>\n",
       "    <tr>\n",
       "      <th>1</th>\n",
       "      <td>Augmentin 625 Duo Tablet</td>\n",
       "      <td>Amoxycillin  (500mg) +  Clavulanic Acid (125mg)</td>\n",
       "      <td>Treatment of Bacterial infections</td>\n",
       "      <td>https://onemg.gumlet.io/l_watermark_346,w_480,...</td>\n",
       "      <td>Glaxo SmithKline Pharmaceuticals Ltd</td>\n",
       "      <td>47</td>\n",
       "      <td>35</td>\n",
       "      <td>18</td>\n",
       "    </tr>\n",
       "    <tr>\n",
       "      <th>2</th>\n",
       "      <td>Azithral 500 Tablet</td>\n",
       "      <td>Azithromycin (500mg)</td>\n",
       "      <td>Treatment of Bacterial infections</td>\n",
       "      <td>https://onemg.gumlet.io/l_watermark_346,w_480,...</td>\n",
       "      <td>Alembic Pharmaceuticals Ltd</td>\n",
       "      <td>39</td>\n",
       "      <td>40</td>\n",
       "      <td>21</td>\n",
       "    </tr>\n",
       "    <tr>\n",
       "      <th>3</th>\n",
       "      <td>Ascoril LS Syrup</td>\n",
       "      <td>Ambroxol (30mg/5ml) + Levosalbutamol (1mg/5ml)...</td>\n",
       "      <td>Treatment of Cough with mucus</td>\n",
       "      <td>https://onemg.gumlet.io/l_watermark_346,w_480,...</td>\n",
       "      <td>Glenmark Pharmaceuticals Ltd</td>\n",
       "      <td>24</td>\n",
       "      <td>41</td>\n",
       "      <td>35</td>\n",
       "    </tr>\n",
       "    <tr>\n",
       "      <th>4</th>\n",
       "      <td>Aciloc 150 Tablet</td>\n",
       "      <td>Ranitidine (150mg)</td>\n",
       "      <td>Treatment of Gastroesophageal reflux disease (...</td>\n",
       "      <td>https://onemg.gumlet.io/l_watermark_346,w_480,...</td>\n",
       "      <td>Cadila Pharmaceuticals Ltd</td>\n",
       "      <td>34</td>\n",
       "      <td>37</td>\n",
       "      <td>29</td>\n",
       "    </tr>\n",
       "  </tbody>\n",
       "</table>\n",
       "</div>"
      ],
      "text/plain": [
       "              Medicine Name  \\\n",
       "0   Avastin 400mg Injection   \n",
       "1  Augmentin 625 Duo Tablet   \n",
       "2       Azithral 500 Tablet   \n",
       "3          Ascoril LS Syrup   \n",
       "4         Aciloc 150 Tablet   \n",
       "\n",
       "                                         Composition  \\\n",
       "0                                Bevacizumab (400mg)   \n",
       "1    Amoxycillin  (500mg) +  Clavulanic Acid (125mg)   \n",
       "2                               Azithromycin (500mg)   \n",
       "3  Ambroxol (30mg/5ml) + Levosalbutamol (1mg/5ml)...   \n",
       "4                                 Ranitidine (150mg)   \n",
       "\n",
       "                                                Uses  \\\n",
       "0   Cancer of colon and rectum Non-small cell lun...   \n",
       "1                  Treatment of Bacterial infections   \n",
       "2                  Treatment of Bacterial infections   \n",
       "3                      Treatment of Cough with mucus   \n",
       "4  Treatment of Gastroesophageal reflux disease (...   \n",
       "\n",
       "                                           Image URL  \\\n",
       "0  https://onemg.gumlet.io/l_watermark_346,w_480,...   \n",
       "1  https://onemg.gumlet.io/l_watermark_346,w_480,...   \n",
       "2  https://onemg.gumlet.io/l_watermark_346,w_480,...   \n",
       "3  https://onemg.gumlet.io/l_watermark_346,w_480,...   \n",
       "4  https://onemg.gumlet.io/l_watermark_346,w_480,...   \n",
       "\n",
       "                           Manufacturer  Excellent Review %  Average Review %  \\\n",
       "0          Roche Products India Pvt Ltd                  22                56   \n",
       "1  Glaxo SmithKline Pharmaceuticals Ltd                  47                35   \n",
       "2           Alembic Pharmaceuticals Ltd                  39                40   \n",
       "3          Glenmark Pharmaceuticals Ltd                  24                41   \n",
       "4            Cadila Pharmaceuticals Ltd                  34                37   \n",
       "\n",
       "   Poor Review %  \n",
       "0             22  \n",
       "1             18  \n",
       "2             21  \n",
       "3             35  \n",
       "4             29  "
      ]
     },
     "execution_count": 4,
     "metadata": {},
     "output_type": "execute_result"
    }
   ],
   "source": [
    "# Columns that we are going to keep\n",
    "\n",
    "# Medicine_Name\n",
    "# Composition\n",
    "# uses\n",
    "# Image_URL\n",
    "# Manufacturer\n",
    "# All three reviews\n",
    "\n",
    "\n",
    "meds = meds[['Medicine Name', 'Composition', 'Uses', 'Image URL', 'Manufacturer', 'Excellent Review %', 'Average Review %', 'Poor Review %']]\n",
    "meds.head(5)"
   ]
  },
  {
   "cell_type": "code",
   "execution_count": 5,
   "id": "dbd16f69",
   "metadata": {
    "execution": {
     "iopub.execute_input": "2023-10-06T09:37:02.866048Z",
     "iopub.status.busy": "2023-10-06T09:37:02.865449Z",
     "iopub.status.idle": "2023-10-06T09:37:02.877002Z",
     "shell.execute_reply": "2023-10-06T09:37:02.875937Z"
    },
    "papermill": {
     "duration": 0.028534,
     "end_time": "2023-10-06T09:37:02.879234",
     "exception": false,
     "start_time": "2023-10-06T09:37:02.850700",
     "status": "completed"
    },
    "tags": []
   },
   "outputs": [
    {
     "data": {
      "text/plain": [
       "Medicine Name         0\n",
       "Composition           0\n",
       "Uses                  0\n",
       "Image URL             0\n",
       "Manufacturer          0\n",
       "Excellent Review %    0\n",
       "Average Review %      0\n",
       "Poor Review %         0\n",
       "dtype: int64"
      ]
     },
     "execution_count": 5,
     "metadata": {},
     "output_type": "execute_result"
    }
   ],
   "source": [
    "# Checking for null entries\n",
    "meds.isnull().sum()"
   ]
  },
  {
   "cell_type": "code",
   "execution_count": 6,
   "id": "c7d0a6d0",
   "metadata": {
    "execution": {
     "iopub.execute_input": "2023-10-06T09:37:02.903054Z",
     "iopub.status.busy": "2023-10-06T09:37:02.902705Z",
     "iopub.status.idle": "2023-10-06T09:37:02.932482Z",
     "shell.execute_reply": "2023-10-06T09:37:02.931691Z"
    },
    "papermill": {
     "duration": 0.044112,
     "end_time": "2023-10-06T09:37:02.934521",
     "exception": false,
     "start_time": "2023-10-06T09:37:02.890409",
     "status": "completed"
    },
    "tags": []
   },
   "outputs": [
    {
     "data": {
      "text/plain": [
       "85"
      ]
     },
     "execution_count": 6,
     "metadata": {},
     "output_type": "execute_result"
    }
   ],
   "source": [
    "# Checking for duplicate entries\n",
    "meds.duplicated().sum()"
   ]
  },
  {
   "cell_type": "code",
   "execution_count": 7,
   "id": "38d82053",
   "metadata": {
    "execution": {
     "iopub.execute_input": "2023-10-06T09:37:02.959880Z",
     "iopub.status.busy": "2023-10-06T09:37:02.959088Z",
     "iopub.status.idle": "2023-10-06T09:37:02.978967Z",
     "shell.execute_reply": "2023-10-06T09:37:02.977626Z"
    },
    "papermill": {
     "duration": 0.035215,
     "end_time": "2023-10-06T09:37:02.981431",
     "exception": false,
     "start_time": "2023-10-06T09:37:02.946216",
     "status": "completed"
    },
    "tags": []
   },
   "outputs": [],
   "source": [
    "# Dropping duplicate entries\n",
    "medicines = meds.drop_duplicates()"
   ]
  },
  {
   "cell_type": "code",
   "execution_count": 8,
   "id": "c8329af8",
   "metadata": {
    "execution": {
     "iopub.execute_input": "2023-10-06T09:37:03.007129Z",
     "iopub.status.busy": "2023-10-06T09:37:03.006703Z",
     "iopub.status.idle": "2023-10-06T09:37:03.029877Z",
     "shell.execute_reply": "2023-10-06T09:37:03.028648Z"
    },
    "papermill": {
     "duration": 0.038858,
     "end_time": "2023-10-06T09:37:03.032298",
     "exception": false,
     "start_time": "2023-10-06T09:37:02.993440",
     "status": "completed"
    },
    "tags": []
   },
   "outputs": [
    {
     "data": {
      "text/plain": [
       "0"
      ]
     },
     "execution_count": 8,
     "metadata": {},
     "output_type": "execute_result"
    }
   ],
   "source": [
    "medicines.duplicated().sum()"
   ]
  },
  {
   "cell_type": "code",
   "execution_count": 9,
   "id": "427ceb95",
   "metadata": {
    "execution": {
     "iopub.execute_input": "2023-10-06T09:37:03.058950Z",
     "iopub.status.busy": "2023-10-06T09:37:03.058388Z",
     "iopub.status.idle": "2023-10-06T09:37:03.070661Z",
     "shell.execute_reply": "2023-10-06T09:37:03.069369Z"
    },
    "papermill": {
     "duration": 0.028775,
     "end_time": "2023-10-06T09:37:03.073523",
     "exception": false,
     "start_time": "2023-10-06T09:37:03.044748",
     "status": "completed"
    },
    "tags": []
   },
   "outputs": [
    {
     "data": {
      "text/html": [
       "<div>\n",
       "<style scoped>\n",
       "    .dataframe tbody tr th:only-of-type {\n",
       "        vertical-align: middle;\n",
       "    }\n",
       "\n",
       "    .dataframe tbody tr th {\n",
       "        vertical-align: top;\n",
       "    }\n",
       "\n",
       "    .dataframe thead th {\n",
       "        text-align: right;\n",
       "    }\n",
       "</style>\n",
       "<table border=\"1\" class=\"dataframe\">\n",
       "  <thead>\n",
       "    <tr style=\"text-align: right;\">\n",
       "      <th></th>\n",
       "      <th>Medicine Name</th>\n",
       "      <th>Composition</th>\n",
       "      <th>Uses</th>\n",
       "      <th>Image URL</th>\n",
       "      <th>Manufacturer</th>\n",
       "      <th>Excellent Review %</th>\n",
       "      <th>Average Review %</th>\n",
       "      <th>Poor Review %</th>\n",
       "    </tr>\n",
       "  </thead>\n",
       "  <tbody>\n",
       "    <tr>\n",
       "      <th>0</th>\n",
       "      <td>Avastin 400mg Injection</td>\n",
       "      <td>Bevacizumab (400mg)</td>\n",
       "      <td>Cancer of colon and rectum Non-small cell lun...</td>\n",
       "      <td>https://onemg.gumlet.io/l_watermark_346,w_480,...</td>\n",
       "      <td>Roche Products India Pvt Ltd</td>\n",
       "      <td>22</td>\n",
       "      <td>56</td>\n",
       "      <td>22</td>\n",
       "    </tr>\n",
       "    <tr>\n",
       "      <th>1</th>\n",
       "      <td>Augmentin 625 Duo Tablet</td>\n",
       "      <td>Amoxycillin  (500mg) +  Clavulanic Acid (125mg)</td>\n",
       "      <td>Treatment of Bacterial infections</td>\n",
       "      <td>https://onemg.gumlet.io/l_watermark_346,w_480,...</td>\n",
       "      <td>Glaxo SmithKline Pharmaceuticals Ltd</td>\n",
       "      <td>47</td>\n",
       "      <td>35</td>\n",
       "      <td>18</td>\n",
       "    </tr>\n",
       "    <tr>\n",
       "      <th>2</th>\n",
       "      <td>Azithral 500 Tablet</td>\n",
       "      <td>Azithromycin (500mg)</td>\n",
       "      <td>Treatment of Bacterial infections</td>\n",
       "      <td>https://onemg.gumlet.io/l_watermark_346,w_480,...</td>\n",
       "      <td>Alembic Pharmaceuticals Ltd</td>\n",
       "      <td>39</td>\n",
       "      <td>40</td>\n",
       "      <td>21</td>\n",
       "    </tr>\n",
       "    <tr>\n",
       "      <th>3</th>\n",
       "      <td>Ascoril LS Syrup</td>\n",
       "      <td>Ambroxol (30mg/5ml) + Levosalbutamol (1mg/5ml)...</td>\n",
       "      <td>Treatment of Cough with mucus</td>\n",
       "      <td>https://onemg.gumlet.io/l_watermark_346,w_480,...</td>\n",
       "      <td>Glenmark Pharmaceuticals Ltd</td>\n",
       "      <td>24</td>\n",
       "      <td>41</td>\n",
       "      <td>35</td>\n",
       "    </tr>\n",
       "    <tr>\n",
       "      <th>4</th>\n",
       "      <td>Aciloc 150 Tablet</td>\n",
       "      <td>Ranitidine (150mg)</td>\n",
       "      <td>Treatment of Gastroesophageal reflux disease (...</td>\n",
       "      <td>https://onemg.gumlet.io/l_watermark_346,w_480,...</td>\n",
       "      <td>Cadila Pharmaceuticals Ltd</td>\n",
       "      <td>34</td>\n",
       "      <td>37</td>\n",
       "      <td>29</td>\n",
       "    </tr>\n",
       "  </tbody>\n",
       "</table>\n",
       "</div>"
      ],
      "text/plain": [
       "              Medicine Name  \\\n",
       "0   Avastin 400mg Injection   \n",
       "1  Augmentin 625 Duo Tablet   \n",
       "2       Azithral 500 Tablet   \n",
       "3          Ascoril LS Syrup   \n",
       "4         Aciloc 150 Tablet   \n",
       "\n",
       "                                         Composition  \\\n",
       "0                                Bevacizumab (400mg)   \n",
       "1    Amoxycillin  (500mg) +  Clavulanic Acid (125mg)   \n",
       "2                               Azithromycin (500mg)   \n",
       "3  Ambroxol (30mg/5ml) + Levosalbutamol (1mg/5ml)...   \n",
       "4                                 Ranitidine (150mg)   \n",
       "\n",
       "                                                Uses  \\\n",
       "0   Cancer of colon and rectum Non-small cell lun...   \n",
       "1                  Treatment of Bacterial infections   \n",
       "2                  Treatment of Bacterial infections   \n",
       "3                      Treatment of Cough with mucus   \n",
       "4  Treatment of Gastroesophageal reflux disease (...   \n",
       "\n",
       "                                           Image URL  \\\n",
       "0  https://onemg.gumlet.io/l_watermark_346,w_480,...   \n",
       "1  https://onemg.gumlet.io/l_watermark_346,w_480,...   \n",
       "2  https://onemg.gumlet.io/l_watermark_346,w_480,...   \n",
       "3  https://onemg.gumlet.io/l_watermark_346,w_480,...   \n",
       "4  https://onemg.gumlet.io/l_watermark_346,w_480,...   \n",
       "\n",
       "                           Manufacturer  Excellent Review %  Average Review %  \\\n",
       "0          Roche Products India Pvt Ltd                  22                56   \n",
       "1  Glaxo SmithKline Pharmaceuticals Ltd                  47                35   \n",
       "2           Alembic Pharmaceuticals Ltd                  39                40   \n",
       "3          Glenmark Pharmaceuticals Ltd                  24                41   \n",
       "4            Cadila Pharmaceuticals Ltd                  34                37   \n",
       "\n",
       "   Poor Review %  \n",
       "0             22  \n",
       "1             18  \n",
       "2             21  \n",
       "3             35  \n",
       "4             29  "
      ]
     },
     "execution_count": 9,
     "metadata": {},
     "output_type": "execute_result"
    }
   ],
   "source": [
    "meds.head()"
   ]
  },
  {
   "cell_type": "markdown",
   "id": "ef6185eb",
   "metadata": {
    "papermill": {
     "duration": 0.011326,
     "end_time": "2023-10-06T09:37:03.096836",
     "exception": false,
     "start_time": "2023-10-06T09:37:03.085510",
     "status": "completed"
    },
    "tags": []
   },
   "source": [
    "## EDA"
   ]
  },
  {
   "cell_type": "code",
   "execution_count": 10,
   "id": "cf3d7257",
   "metadata": {
    "execution": {
     "iopub.execute_input": "2023-10-06T09:37:03.122939Z",
     "iopub.status.busy": "2023-10-06T09:37:03.122592Z",
     "iopub.status.idle": "2023-10-06T09:37:03.137618Z",
     "shell.execute_reply": "2023-10-06T09:37:03.136465Z"
    },
    "papermill": {
     "duration": 0.030312,
     "end_time": "2023-10-06T09:37:03.139779",
     "exception": false,
     "start_time": "2023-10-06T09:37:03.109467",
     "status": "completed"
    },
    "tags": []
   },
   "outputs": [
    {
     "data": {
      "text/plain": [
       "Composition\n",
       "Luliconazole (1% w/w)                                                                                   98\n",
       "Levocetirizine (5mg) + Montelukast (10mg)                                                               77\n",
       "Ketoconazole (2% w/w)                                                                                   66\n",
       "Domperidone (30mg) + Rabeprazole (20mg)                                                                 60\n",
       "Itraconazole (100mg)                                                                                    53\n",
       "                                                                                                        ..\n",
       "Sodium Picosulfate (3.33mg/5ml) + Liquid Paraffin (1.25ml/5ml) + Milk Of Magnesia (3.75ml/5ml)           1\n",
       "Ambroxol (60mg) + Phenylephrine (5mg) + Levocetirizine (5mg)                                             1\n",
       "Digoxin (0.25mg)                                                                                         1\n",
       "Sulphacetamide (20% w/v)                                                                                 1\n",
       "Chromium Picolinate (100mcg) + D-Chiro Inositol (13.8mg) + Myo-Inositol (550mg) + Vitamin D3 (200IU)     1\n",
       "Name: count, Length: 3358, dtype: int64"
      ]
     },
     "execution_count": 10,
     "metadata": {},
     "output_type": "execute_result"
    }
   ],
   "source": [
    "meds['Composition'].value_counts()"
   ]
  },
  {
   "cell_type": "code",
   "execution_count": 11,
   "id": "79a69bc4",
   "metadata": {
    "execution": {
     "iopub.execute_input": "2023-10-06T09:37:03.234025Z",
     "iopub.status.busy": "2023-10-06T09:37:03.233015Z",
     "iopub.status.idle": "2023-10-06T09:37:03.243778Z",
     "shell.execute_reply": "2023-10-06T09:37:03.242778Z"
    },
    "papermill": {
     "duration": 0.027593,
     "end_time": "2023-10-06T09:37:03.246060",
     "exception": false,
     "start_time": "2023-10-06T09:37:03.218467",
     "status": "completed"
    },
    "tags": []
   },
   "outputs": [],
   "source": [
    "salts_name = list(meds['Composition'].value_counts().keys())[0:20]\n",
    "count_of_meds_with_that_salt = list(meds['Composition'].value_counts())[0:20]"
   ]
  },
  {
   "cell_type": "code",
   "execution_count": 12,
   "id": "d73d1b44",
   "metadata": {
    "execution": {
     "iopub.execute_input": "2023-10-06T09:37:03.273837Z",
     "iopub.status.busy": "2023-10-06T09:37:03.273447Z",
     "iopub.status.idle": "2023-10-06T09:37:03.846981Z",
     "shell.execute_reply": "2023-10-06T09:37:03.846091Z"
    },
    "papermill": {
     "duration": 0.591226,
     "end_time": "2023-10-06T09:37:03.850025",
     "exception": false,
     "start_time": "2023-10-06T09:37:03.258799",
     "status": "completed"
    },
    "tags": []
   },
   "outputs": [
    {
     "data": {
      "image/png": "[encoded data removed]",
      "text/plain": [
       "<Figure size 2000x1000 with 1 Axes>"
      ]
     },
     "metadata": {},
     "output_type": "display_data"
    }
   ],
   "source": [
    "# Composition\n",
    "\n",
    "from matplotlib import pyplot as plt\n",
    "\n",
    "plt.figure(figsize=(20,10))\n",
    "plt.bar(salts_name, count_of_meds_with_that_salt, color = 'b')\n",
    "plt.grid(True)\n",
    "plt.title('Count of Meds with same composition')\n",
    "plt.xticks(rotation=90)\n",
    "plt.xlabel('Salts Name')\n",
    "plt.ylabel('Count Of Medicine')\n",
    "plt.show()"
   ]
  },
  {
   "cell_type": "code",
   "execution_count": 13,
   "id": "c0f82ee8",
   "metadata": {
    "execution": {
     "iopub.execute_input": "2023-10-06T09:37:03.883353Z",
     "iopub.status.busy": "2023-10-06T09:37:03.881988Z",
     "iopub.status.idle": "2023-10-06T09:37:03.891063Z",
     "shell.execute_reply": "2023-10-06T09:37:03.890275Z"
    },
    "papermill": {
     "duration": 0.028617,
     "end_time": "2023-10-06T09:37:03.893610",
     "exception": false,
     "start_time": "2023-10-06T09:37:03.864993",
     "status": "completed"
    },
    "tags": []
   },
   "outputs": [
    {
     "data": {
      "text/plain": [
       "Manufacturer\n",
       "Sun Pharmaceutical Industries Ltd    820\n",
       "Intas Pharmaceuticals Ltd            654\n",
       "Cipla Ltd                            574\n",
       "Torrent Pharmaceuticals Ltd          445\n",
       "Lupin Ltd                            435\n",
       "                                    ... \n",
       "Universal NutriScience                 1\n",
       "Orison Pharma International            1\n",
       "Pacific Biotech                        1\n",
       "Misae Lifesciences Pvt Ltd             1\n",
       "Albia Biocare                          1\n",
       "Name: count, Length: 759, dtype: int64"
      ]
     },
     "execution_count": 13,
     "metadata": {},
     "output_type": "execute_result"
    }
   ],
   "source": [
    "meds['Manufacturer'].value_counts()"
   ]
  },
  {
   "cell_type": "code",
   "execution_count": 14,
   "id": "c132a91b",
   "metadata": {
    "execution": {
     "iopub.execute_input": "2023-10-06T09:37:03.927396Z",
     "iopub.status.busy": "2023-10-06T09:37:03.926300Z",
     "iopub.status.idle": "2023-10-06T09:37:03.935531Z",
     "shell.execute_reply": "2023-10-06T09:37:03.934064Z"
    },
    "papermill": {
     "duration": 0.028416,
     "end_time": "2023-10-06T09:37:03.937954",
     "exception": false,
     "start_time": "2023-10-06T09:37:03.909538",
     "status": "completed"
    },
    "tags": []
   },
   "outputs": [],
   "source": [
    "manu_name = list(meds['Manufacturer'].value_counts().keys())[0:30]\n",
    "count_manufacture_name = list(meds['Manufacturer'].value_counts())[0:30]"
   ]
  },
  {
   "cell_type": "code",
   "execution_count": 15,
   "id": "027f4455",
   "metadata": {
    "execution": {
     "iopub.execute_input": "2023-10-06T09:37:03.967988Z",
     "iopub.status.busy": "2023-10-06T09:37:03.967448Z",
     "iopub.status.idle": "2023-10-06T09:37:04.553474Z",
     "shell.execute_reply": "2023-10-06T09:37:04.552507Z"
    },
    "papermill": {
     "duration": 0.604256,
     "end_time": "2023-10-06T09:37:04.556300",
     "exception": false,
     "start_time": "2023-10-06T09:37:03.952044",
     "status": "completed"
    },
    "tags": []
   },
   "outputs": [
    {
     "data": {
      "image/png": "[encoded data removed]",
      "text/plain": [
       "<Figure size 2000x1000 with 1 Axes>"
      ]
     },
     "metadata": {},
     "output_type": "display_data"
    }
   ],
   "source": [
    "# Manufacturer \n",
    "\n",
    "plt.figure(figsize=(20,10))\n",
    "plt.bar(manu_name, count_manufacture_name, color = 'r')\n",
    "plt.grid(True)\n",
    "plt.title('Count of Meds with same Manufacturer')\n",
    "plt.xticks(rotation=90)\n",
    "plt.xlabel('Salts Name')\n",
    "plt.ylabel('Count Of Medicine')\n",
    "plt.show()"
   ]
  },
  {
   "cell_type": "code",
   "execution_count": 16,
   "id": "48e0108d",
   "metadata": {
    "execution": {
     "iopub.execute_input": "2023-10-06T09:37:04.594035Z",
     "iopub.status.busy": "2023-10-06T09:37:04.592913Z",
     "iopub.status.idle": "2023-10-06T09:37:04.612016Z",
     "shell.execute_reply": "2023-10-06T09:37:04.610786Z"
    },
    "papermill": {
     "duration": 0.040689,
     "end_time": "2023-10-06T09:37:04.614300",
     "exception": false,
     "start_time": "2023-10-06T09:37:04.573611",
     "status": "completed"
    },
    "tags": []
   },
   "outputs": [
    {
     "name": "stderr",
     "output_type": "stream",
     "text": [
      "/tmp/ipykernel_20/82580483.py:8: SettingWithCopyWarning: \n",
      "A value is trying to be set on a copy of a slice from a DataFrame.\n",
      "Try using .loc[row_indexer,col_indexer] = value instead\n",
      "\n",
      "See the caveats in the documentation: https://pandas.pydata.org/pandas-docs/stable/user_guide/indexing.html#returning-a-view-versus-a-copy\n",
      "  meds['Composition'] = meds['Composition'].apply(convert)\n"
     ]
    }
   ],
   "source": [
    "# Removing + sign between the composition and separating each salt\n",
    "\n",
    "def convert(input_string):\n",
    "    # Split the input string using ' + ' as the delimiter\n",
    "    salts = [item.strip() for item in input_string.split(' + ')]\n",
    "    return salts\n",
    "\n",
    "meds['Composition'] = meds['Composition'].apply(convert)"
   ]
  },
  {
   "cell_type": "code",
   "execution_count": 17,
   "id": "c0f22ee2",
   "metadata": {
    "execution": {
     "iopub.execute_input": "2023-10-06T09:37:04.648516Z",
     "iopub.status.busy": "2023-10-06T09:37:04.648097Z",
     "iopub.status.idle": "2023-10-06T09:37:04.663031Z",
     "shell.execute_reply": "2023-10-06T09:37:04.661846Z"
    },
    "papermill": {
     "duration": 0.034852,
     "end_time": "2023-10-06T09:37:04.665440",
     "exception": false,
     "start_time": "2023-10-06T09:37:04.630588",
     "status": "completed"
    },
    "tags": []
   },
   "outputs": [
    {
     "data": {
      "text/html": [
       "<div>\n",
       "<style scoped>\n",
       "    .dataframe tbody tr th:only-of-type {\n",
       "        vertical-align: middle;\n",
       "    }\n",
       "\n",
       "    .dataframe tbody tr th {\n",
       "        vertical-align: top;\n",
       "    }\n",
       "\n",
       "    .dataframe thead th {\n",
       "        text-align: right;\n",
       "    }\n",
       "</style>\n",
       "<table border=\"1\" class=\"dataframe\">\n",
       "  <thead>\n",
       "    <tr style=\"text-align: right;\">\n",
       "      <th></th>\n",
       "      <th>Medicine Name</th>\n",
       "      <th>Composition</th>\n",
       "      <th>Uses</th>\n",
       "      <th>Image URL</th>\n",
       "      <th>Manufacturer</th>\n",
       "      <th>Excellent Review %</th>\n",
       "      <th>Average Review %</th>\n",
       "      <th>Poor Review %</th>\n",
       "    </tr>\n",
       "  </thead>\n",
       "  <tbody>\n",
       "    <tr>\n",
       "      <th>0</th>\n",
       "      <td>Avastin 400mg Injection</td>\n",
       "      <td>[Bevacizumab (400mg)]</td>\n",
       "      <td>Cancer of colon and rectum Non-small cell lun...</td>\n",
       "      <td>https://onemg.gumlet.io/l_watermark_346,w_480,...</td>\n",
       "      <td>Roche Products India Pvt Ltd</td>\n",
       "      <td>22</td>\n",
       "      <td>56</td>\n",
       "      <td>22</td>\n",
       "    </tr>\n",
       "    <tr>\n",
       "      <th>1</th>\n",
       "      <td>Augmentin 625 Duo Tablet</td>\n",
       "      <td>[Amoxycillin  (500mg), Clavulanic Acid (125mg)]</td>\n",
       "      <td>Treatment of Bacterial infections</td>\n",
       "      <td>https://onemg.gumlet.io/l_watermark_346,w_480,...</td>\n",
       "      <td>Glaxo SmithKline Pharmaceuticals Ltd</td>\n",
       "      <td>47</td>\n",
       "      <td>35</td>\n",
       "      <td>18</td>\n",
       "    </tr>\n",
       "    <tr>\n",
       "      <th>2</th>\n",
       "      <td>Azithral 500 Tablet</td>\n",
       "      <td>[Azithromycin (500mg)]</td>\n",
       "      <td>Treatment of Bacterial infections</td>\n",
       "      <td>https://onemg.gumlet.io/l_watermark_346,w_480,...</td>\n",
       "      <td>Alembic Pharmaceuticals Ltd</td>\n",
       "      <td>39</td>\n",
       "      <td>40</td>\n",
       "      <td>21</td>\n",
       "    </tr>\n",
       "    <tr>\n",
       "      <th>3</th>\n",
       "      <td>Ascoril LS Syrup</td>\n",
       "      <td>[Ambroxol (30mg/5ml), Levosalbutamol (1mg/5ml)...</td>\n",
       "      <td>Treatment of Cough with mucus</td>\n",
       "      <td>https://onemg.gumlet.io/l_watermark_346,w_480,...</td>\n",
       "      <td>Glenmark Pharmaceuticals Ltd</td>\n",
       "      <td>24</td>\n",
       "      <td>41</td>\n",
       "      <td>35</td>\n",
       "    </tr>\n",
       "    <tr>\n",
       "      <th>4</th>\n",
       "      <td>Aciloc 150 Tablet</td>\n",
       "      <td>[Ranitidine (150mg)]</td>\n",
       "      <td>Treatment of Gastroesophageal reflux disease (...</td>\n",
       "      <td>https://onemg.gumlet.io/l_watermark_346,w_480,...</td>\n",
       "      <td>Cadila Pharmaceuticals Ltd</td>\n",
       "      <td>34</td>\n",
       "      <td>37</td>\n",
       "      <td>29</td>\n",
       "    </tr>\n",
       "  </tbody>\n",
       "</table>\n",
       "</div>"
      ],
      "text/plain": [
       "              Medicine Name  \\\n",
       "0   Avastin 400mg Injection   \n",
       "1  Augmentin 625 Duo Tablet   \n",
       "2       Azithral 500 Tablet   \n",
       "3          Ascoril LS Syrup   \n",
       "4         Aciloc 150 Tablet   \n",
       "\n",
       "                                         Composition  \\\n",
       "0                              [Bevacizumab (400mg)]   \n",
       "1    [Amoxycillin  (500mg), Clavulanic Acid (125mg)]   \n",
       "2                             [Azithromycin (500mg)]   \n",
       "3  [Ambroxol (30mg/5ml), Levosalbutamol (1mg/5ml)...   \n",
       "4                               [Ranitidine (150mg)]   \n",
       "\n",
       "                                                Uses  \\\n",
       "0   Cancer of colon and rectum Non-small cell lun...   \n",
       "1                  Treatment of Bacterial infections   \n",
       "2                  Treatment of Bacterial infections   \n",
       "3                      Treatment of Cough with mucus   \n",
       "4  Treatment of Gastroesophageal reflux disease (...   \n",
       "\n",
       "                                           Image URL  \\\n",
       "0  https://onemg.gumlet.io/l_watermark_346,w_480,...   \n",
       "1  https://onemg.gumlet.io/l_watermark_346,w_480,...   \n",
       "2  https://onemg.gumlet.io/l_watermark_346,w_480,...   \n",
       "3  https://onemg.gumlet.io/l_watermark_346,w_480,...   \n",
       "4  https://onemg.gumlet.io/l_watermark_346,w_480,...   \n",
       "\n",
       "                           Manufacturer  Excellent Review %  Average Review %  \\\n",
       "0          Roche Products India Pvt Ltd                  22                56   \n",
       "1  Glaxo SmithKline Pharmaceuticals Ltd                  47                35   \n",
       "2           Alembic Pharmaceuticals Ltd                  39                40   \n",
       "3          Glenmark Pharmaceuticals Ltd                  24                41   \n",
       "4            Cadila Pharmaceuticals Ltd                  34                37   \n",
       "\n",
       "   Poor Review %  \n",
       "0             22  \n",
       "1             18  \n",
       "2             21  \n",
       "3             35  \n",
       "4             29  "
      ]
     },
     "execution_count": 17,
     "metadata": {},
     "output_type": "execute_result"
    }
   ],
   "source": [
    "meds.head()"
   ]
  },
  {
   "cell_type": "code",
   "execution_count": 18,
   "id": "effb534e",
   "metadata": {
    "execution": {
     "iopub.execute_input": "2023-10-06T09:37:04.701473Z",
     "iopub.status.busy": "2023-10-06T09:37:04.701081Z",
     "iopub.status.idle": "2023-10-06T09:37:04.722226Z",
     "shell.execute_reply": "2023-10-06T09:37:04.721010Z"
    },
    "papermill": {
     "duration": 0.042711,
     "end_time": "2023-10-06T09:37:04.724610",
     "exception": false,
     "start_time": "2023-10-06T09:37:04.681899",
     "status": "completed"
    },
    "tags": []
   },
   "outputs": [
    {
     "name": "stderr",
     "output_type": "stream",
     "text": [
      "/tmp/ipykernel_20/3398003917.py:2: SettingWithCopyWarning: \n",
      "A value is trying to be set on a copy of a slice from a DataFrame.\n",
      "Try using .loc[row_indexer,col_indexer] = value instead\n",
      "\n",
      "See the caveats in the documentation: https://pandas.pydata.org/pandas-docs/stable/user_guide/indexing.html#returning-a-view-versus-a-copy\n",
      "  meds['Uses'] = meds['Uses'].apply(lambda x:x.split())\n"
     ]
    }
   ],
   "source": [
    "# Converting Uses into list\n",
    "meds['Uses'] = meds['Uses'].apply(lambda x:x.split())"
   ]
  },
  {
   "cell_type": "code",
   "execution_count": 19,
   "id": "847e9ee7",
   "metadata": {
    "execution": {
     "iopub.execute_input": "2023-10-06T09:37:04.760017Z",
     "iopub.status.busy": "2023-10-06T09:37:04.759387Z",
     "iopub.status.idle": "2023-10-06T09:37:04.774373Z",
     "shell.execute_reply": "2023-10-06T09:37:04.773105Z"
    },
    "papermill": {
     "duration": 0.035628,
     "end_time": "2023-10-06T09:37:04.776746",
     "exception": false,
     "start_time": "2023-10-06T09:37:04.741118",
     "status": "completed"
    },
    "tags": []
   },
   "outputs": [
    {
     "data": {
      "text/html": [
       "<div>\n",
       "<style scoped>\n",
       "    .dataframe tbody tr th:only-of-type {\n",
       "        vertical-align: middle;\n",
       "    }\n",
       "\n",
       "    .dataframe tbody tr th {\n",
       "        vertical-align: top;\n",
       "    }\n",
       "\n",
       "    .dataframe thead th {\n",
       "        text-align: right;\n",
       "    }\n",
       "</style>\n",
       "<table border=\"1\" class=\"dataframe\">\n",
       "  <thead>\n",
       "    <tr style=\"text-align: right;\">\n",
       "      <th></th>\n",
       "      <th>Medicine Name</th>\n",
       "      <th>Composition</th>\n",
       "      <th>Uses</th>\n",
       "      <th>Image URL</th>\n",
       "      <th>Manufacturer</th>\n",
       "      <th>Excellent Review %</th>\n",
       "      <th>Average Review %</th>\n",
       "      <th>Poor Review %</th>\n",
       "    </tr>\n",
       "  </thead>\n",
       "  <tbody>\n",
       "    <tr>\n",
       "      <th>0</th>\n",
       "      <td>Avastin 400mg Injection</td>\n",
       "      <td>[Bevacizumab (400mg)]</td>\n",
       "      <td>[Cancer, of, colon, and, rectum, Non-small, ce...</td>\n",
       "      <td>https://onemg.gumlet.io/l_watermark_346,w_480,...</td>\n",
       "      <td>Roche Products India Pvt Ltd</td>\n",
       "      <td>22</td>\n",
       "      <td>56</td>\n",
       "      <td>22</td>\n",
       "    </tr>\n",
       "    <tr>\n",
       "      <th>1</th>\n",
       "      <td>Augmentin 625 Duo Tablet</td>\n",
       "      <td>[Amoxycillin  (500mg), Clavulanic Acid (125mg)]</td>\n",
       "      <td>[Treatment, of, Bacterial, infections]</td>\n",
       "      <td>https://onemg.gumlet.io/l_watermark_346,w_480,...</td>\n",
       "      <td>Glaxo SmithKline Pharmaceuticals Ltd</td>\n",
       "      <td>47</td>\n",
       "      <td>35</td>\n",
       "      <td>18</td>\n",
       "    </tr>\n",
       "    <tr>\n",
       "      <th>2</th>\n",
       "      <td>Azithral 500 Tablet</td>\n",
       "      <td>[Azithromycin (500mg)]</td>\n",
       "      <td>[Treatment, of, Bacterial, infections]</td>\n",
       "      <td>https://onemg.gumlet.io/l_watermark_346,w_480,...</td>\n",
       "      <td>Alembic Pharmaceuticals Ltd</td>\n",
       "      <td>39</td>\n",
       "      <td>40</td>\n",
       "      <td>21</td>\n",
       "    </tr>\n",
       "    <tr>\n",
       "      <th>3</th>\n",
       "      <td>Ascoril LS Syrup</td>\n",
       "      <td>[Ambroxol (30mg/5ml), Levosalbutamol (1mg/5ml)...</td>\n",
       "      <td>[Treatment, of, Cough, with, mucus]</td>\n",
       "      <td>https://onemg.gumlet.io/l_watermark_346,w_480,...</td>\n",
       "      <td>Glenmark Pharmaceuticals Ltd</td>\n",
       "      <td>24</td>\n",
       "      <td>41</td>\n",
       "      <td>35</td>\n",
       "    </tr>\n",
       "    <tr>\n",
       "      <th>4</th>\n",
       "      <td>Aciloc 150 Tablet</td>\n",
       "      <td>[Ranitidine (150mg)]</td>\n",
       "      <td>[Treatment, of, Gastroesophageal, reflux, dise...</td>\n",
       "      <td>https://onemg.gumlet.io/l_watermark_346,w_480,...</td>\n",
       "      <td>Cadila Pharmaceuticals Ltd</td>\n",
       "      <td>34</td>\n",
       "      <td>37</td>\n",
       "      <td>29</td>\n",
       "    </tr>\n",
       "  </tbody>\n",
       "</table>\n",
       "</div>"
      ],
      "text/plain": [
       "              Medicine Name  \\\n",
       "0   Avastin 400mg Injection   \n",
       "1  Augmentin 625 Duo Tablet   \n",
       "2       Azithral 500 Tablet   \n",
       "3          Ascoril LS Syrup   \n",
       "4         Aciloc 150 Tablet   \n",
       "\n",
       "                                         Composition  \\\n",
       "0                              [Bevacizumab (400mg)]   \n",
       "1    [Amoxycillin  (500mg), Clavulanic Acid (125mg)]   \n",
       "2                             [Azithromycin (500mg)]   \n",
       "3  [Ambroxol (30mg/5ml), Levosalbutamol (1mg/5ml)...   \n",
       "4                               [Ranitidine (150mg)]   \n",
       "\n",
       "                                                Uses  \\\n",
       "0  [Cancer, of, colon, and, rectum, Non-small, ce...   \n",
       "1             [Treatment, of, Bacterial, infections]   \n",
       "2             [Treatment, of, Bacterial, infections]   \n",
       "3                [Treatment, of, Cough, with, mucus]   \n",
       "4  [Treatment, of, Gastroesophageal, reflux, dise...   \n",
       "\n",
       "                                           Image URL  \\\n",
       "0  https://onemg.gumlet.io/l_watermark_346,w_480,...   \n",
       "1  https://onemg.gumlet.io/l_watermark_346,w_480,...   \n",
       "2  https://onemg.gumlet.io/l_watermark_346,w_480,...   \n",
       "3  https://onemg.gumlet.io/l_watermark_346,w_480,...   \n",
       "4  https://onemg.gumlet.io/l_watermark_346,w_480,...   \n",
       "\n",
       "                           Manufacturer  Excellent Review %  Average Review %  \\\n",
       "0          Roche Products India Pvt Ltd                  22                56   \n",
       "1  Glaxo SmithKline Pharmaceuticals Ltd                  47                35   \n",
       "2           Alembic Pharmaceuticals Ltd                  39                40   \n",
       "3          Glenmark Pharmaceuticals Ltd                  24                41   \n",
       "4            Cadila Pharmaceuticals Ltd                  34                37   \n",
       "\n",
       "   Poor Review %  \n",
       "0             22  \n",
       "1             18  \n",
       "2             21  \n",
       "3             35  \n",
       "4             29  "
      ]
     },
     "execution_count": 19,
     "metadata": {},
     "output_type": "execute_result"
    }
   ],
   "source": [
    "meds.head()"
   ]
  },
  {
   "cell_type": "code",
   "execution_count": 20,
   "id": "9229790e",
   "metadata": {
    "execution": {
     "iopub.execute_input": "2023-10-06T09:37:04.813352Z",
     "iopub.status.busy": "2023-10-06T09:37:04.813009Z",
     "iopub.status.idle": "2023-10-06T09:37:04.841285Z",
     "shell.execute_reply": "2023-10-06T09:37:04.840440Z"
    },
    "papermill": {
     "duration": 0.049604,
     "end_time": "2023-10-06T09:37:04.843582",
     "exception": false,
     "start_time": "2023-10-06T09:37:04.793978",
     "status": "completed"
    },
    "tags": []
   },
   "outputs": [
    {
     "name": "stderr",
     "output_type": "stream",
     "text": [
      "/tmp/ipykernel_20/439034076.py:3: SettingWithCopyWarning: \n",
      "A value is trying to be set on a copy of a slice from a DataFrame.\n",
      "Try using .loc[row_indexer,col_indexer] = value instead\n",
      "\n",
      "See the caveats in the documentation: https://pandas.pydata.org/pandas-docs/stable/user_guide/indexing.html#returning-a-view-versus-a-copy\n",
      "  meds['Composition'] = meds['Composition'].apply(lambda x:[i.replace(\" \",\"\") for i in x])\n"
     ]
    },
    {
     "data": {
      "text/html": [
       "<div>\n",
       "<style scoped>\n",
       "    .dataframe tbody tr th:only-of-type {\n",
       "        vertical-align: middle;\n",
       "    }\n",
       "\n",
       "    .dataframe tbody tr th {\n",
       "        vertical-align: top;\n",
       "    }\n",
       "\n",
       "    .dataframe thead th {\n",
       "        text-align: right;\n",
       "    }\n",
       "</style>\n",
       "<table border=\"1\" class=\"dataframe\">\n",
       "  <thead>\n",
       "    <tr style=\"text-align: right;\">\n",
       "      <th></th>\n",
       "      <th>Medicine Name</th>\n",
       "      <th>Composition</th>\n",
       "      <th>Uses</th>\n",
       "      <th>Image URL</th>\n",
       "      <th>Manufacturer</th>\n",
       "      <th>Excellent Review %</th>\n",
       "      <th>Average Review %</th>\n",
       "      <th>Poor Review %</th>\n",
       "    </tr>\n",
       "  </thead>\n",
       "  <tbody>\n",
       "    <tr>\n",
       "      <th>0</th>\n",
       "      <td>Avastin 400mg Injection</td>\n",
       "      <td>[Bevacizumab(400mg)]</td>\n",
       "      <td>[Cancer, of, colon, and, rectum, Non-small, ce...</td>\n",
       "      <td>https://onemg.gumlet.io/l_watermark_346,w_480,...</td>\n",
       "      <td>Roche Products India Pvt Ltd</td>\n",
       "      <td>22</td>\n",
       "      <td>56</td>\n",
       "      <td>22</td>\n",
       "    </tr>\n",
       "    <tr>\n",
       "      <th>1</th>\n",
       "      <td>Augmentin 625 Duo Tablet</td>\n",
       "      <td>[Amoxycillin(500mg), ClavulanicAcid(125mg)]</td>\n",
       "      <td>[Treatment, of, Bacterial, infections]</td>\n",
       "      <td>https://onemg.gumlet.io/l_watermark_346,w_480,...</td>\n",
       "      <td>Glaxo SmithKline Pharmaceuticals Ltd</td>\n",
       "      <td>47</td>\n",
       "      <td>35</td>\n",
       "      <td>18</td>\n",
       "    </tr>\n",
       "    <tr>\n",
       "      <th>2</th>\n",
       "      <td>Azithral 500 Tablet</td>\n",
       "      <td>[Azithromycin(500mg)]</td>\n",
       "      <td>[Treatment, of, Bacterial, infections]</td>\n",
       "      <td>https://onemg.gumlet.io/l_watermark_346,w_480,...</td>\n",
       "      <td>Alembic Pharmaceuticals Ltd</td>\n",
       "      <td>39</td>\n",
       "      <td>40</td>\n",
       "      <td>21</td>\n",
       "    </tr>\n",
       "    <tr>\n",
       "      <th>3</th>\n",
       "      <td>Ascoril LS Syrup</td>\n",
       "      <td>[Ambroxol(30mg/5ml), Levosalbutamol(1mg/5ml), ...</td>\n",
       "      <td>[Treatment, of, Cough, with, mucus]</td>\n",
       "      <td>https://onemg.gumlet.io/l_watermark_346,w_480,...</td>\n",
       "      <td>Glenmark Pharmaceuticals Ltd</td>\n",
       "      <td>24</td>\n",
       "      <td>41</td>\n",
       "      <td>35</td>\n",
       "    </tr>\n",
       "    <tr>\n",
       "      <th>4</th>\n",
       "      <td>Aciloc 150 Tablet</td>\n",
       "      <td>[Ranitidine(150mg)]</td>\n",
       "      <td>[Treatment, of, Gastroesophageal, reflux, dise...</td>\n",
       "      <td>https://onemg.gumlet.io/l_watermark_346,w_480,...</td>\n",
       "      <td>Cadila Pharmaceuticals Ltd</td>\n",
       "      <td>34</td>\n",
       "      <td>37</td>\n",
       "      <td>29</td>\n",
       "    </tr>\n",
       "  </tbody>\n",
       "</table>\n",
       "</div>"
      ],
      "text/plain": [
       "              Medicine Name  \\\n",
       "0   Avastin 400mg Injection   \n",
       "1  Augmentin 625 Duo Tablet   \n",
       "2       Azithral 500 Tablet   \n",
       "3          Ascoril LS Syrup   \n",
       "4         Aciloc 150 Tablet   \n",
       "\n",
       "                                         Composition  \\\n",
       "0                               [Bevacizumab(400mg)]   \n",
       "1        [Amoxycillin(500mg), ClavulanicAcid(125mg)]   \n",
       "2                              [Azithromycin(500mg)]   \n",
       "3  [Ambroxol(30mg/5ml), Levosalbutamol(1mg/5ml), ...   \n",
       "4                                [Ranitidine(150mg)]   \n",
       "\n",
       "                                                Uses  \\\n",
       "0  [Cancer, of, colon, and, rectum, Non-small, ce...   \n",
       "1             [Treatment, of, Bacterial, infections]   \n",
       "2             [Treatment, of, Bacterial, infections]   \n",
       "3                [Treatment, of, Cough, with, mucus]   \n",
       "4  [Treatment, of, Gastroesophageal, reflux, dise...   \n",
       "\n",
       "                                           Image URL  \\\n",
       "0  https://onemg.gumlet.io/l_watermark_346,w_480,...   \n",
       "1  https://onemg.gumlet.io/l_watermark_346,w_480,...   \n",
       "2  https://onemg.gumlet.io/l_watermark_346,w_480,...   \n",
       "3  https://onemg.gumlet.io/l_watermark_346,w_480,...   \n",
       "4  https://onemg.gumlet.io/l_watermark_346,w_480,...   \n",
       "\n",
       "                           Manufacturer  Excellent Review %  Average Review %  \\\n",
       "0          Roche Products India Pvt Ltd                  22                56   \n",
       "1  Glaxo SmithKline Pharmaceuticals Ltd                  47                35   \n",
       "2           Alembic Pharmaceuticals Ltd                  39                40   \n",
       "3          Glenmark Pharmaceuticals Ltd                  24                41   \n",
       "4            Cadila Pharmaceuticals Ltd                  34                37   \n",
       "\n",
       "   Poor Review %  \n",
       "0             22  \n",
       "1             18  \n",
       "2             21  \n",
       "3             35  \n",
       "4             29  "
      ]
     },
     "execution_count": 20,
     "metadata": {},
     "output_type": "execute_result"
    }
   ],
   "source": [
    "# Removing spaces between salt name and its power\n",
    "\n",
    "meds['Composition'] = meds['Composition'].apply(lambda x:[i.replace(\" \",\"\") for i in x])\n",
    "meds.head()"
   ]
  },
  {
   "cell_type": "code",
   "execution_count": 21,
   "id": "87de4bdf",
   "metadata": {
    "execution": {
     "iopub.execute_input": "2023-10-06T09:37:04.879222Z",
     "iopub.status.busy": "2023-10-06T09:37:04.878462Z",
     "iopub.status.idle": "2023-10-06T09:37:04.886296Z",
     "shell.execute_reply": "2023-10-06T09:37:04.885230Z"
    },
    "papermill": {
     "duration": 0.028255,
     "end_time": "2023-10-06T09:37:04.888643",
     "exception": false,
     "start_time": "2023-10-06T09:37:04.860388",
     "status": "completed"
    },
    "tags": []
   },
   "outputs": [],
   "source": [
    "# Creating medicine score column for each medicine\n",
    "#weight_excell = 5.0\n",
    "#weight_avg = 3.0\n",
    "#weight_poor = 1.0\n",
    "# using this formula we are calculating medicine_score\n",
    "# score = (excell_improvement/100 * weight_excell) + (avg_improvement/100 * weight_avg) + (poor_improvement/100 * weight_poor)\n",
    "\n",
    "meds['Medicine Score'] = round((meds['Excellent Review %']/100 * 5.0) + (meds['Average Review %']/100 * 3.0) + (meds['Poor Review %']/100 *1.0), 2)"
   ]
  },
  {
   "cell_type": "code",
   "execution_count": 22,
   "id": "74ddb25d",
   "metadata": {
    "execution": {
     "iopub.execute_input": "2023-10-06T09:37:04.924003Z",
     "iopub.status.busy": "2023-10-06T09:37:04.923677Z",
     "iopub.status.idle": "2023-10-06T09:37:04.939519Z",
     "shell.execute_reply": "2023-10-06T09:37:04.938654Z"
    },
    "papermill": {
     "duration": 0.035989,
     "end_time": "2023-10-06T09:37:04.941328",
     "exception": false,
     "start_time": "2023-10-06T09:37:04.905339",
     "status": "completed"
    },
    "tags": []
   },
   "outputs": [
    {
     "data": {
      "text/html": [
       "<div>\n",
       "<style scoped>\n",
       "    .dataframe tbody tr th:only-of-type {\n",
       "        vertical-align: middle;\n",
       "    }\n",
       "\n",
       "    .dataframe tbody tr th {\n",
       "        vertical-align: top;\n",
       "    }\n",
       "\n",
       "    .dataframe thead th {\n",
       "        text-align: right;\n",
       "    }\n",
       "</style>\n",
       "<table border=\"1\" class=\"dataframe\">\n",
       "  <thead>\n",
       "    <tr style=\"text-align: right;\">\n",
       "      <th></th>\n",
       "      <th>Medicine Name</th>\n",
       "      <th>Composition</th>\n",
       "      <th>Uses</th>\n",
       "      <th>Image URL</th>\n",
       "      <th>Manufacturer</th>\n",
       "      <th>Excellent Review %</th>\n",
       "      <th>Average Review %</th>\n",
       "      <th>Poor Review %</th>\n",
       "      <th>Medicine Score</th>\n",
       "    </tr>\n",
       "  </thead>\n",
       "  <tbody>\n",
       "    <tr>\n",
       "      <th>0</th>\n",
       "      <td>Avastin 400mg Injection</td>\n",
       "      <td>[Bevacizumab(400mg)]</td>\n",
       "      <td>[Cancer, of, colon, and, rectum, Non-small, ce...</td>\n",
       "      <td>https://onemg.gumlet.io/l_watermark_346,w_480,...</td>\n",
       "      <td>Roche Products India Pvt Ltd</td>\n",
       "      <td>22</td>\n",
       "      <td>56</td>\n",
       "      <td>22</td>\n",
       "      <td>3.00</td>\n",
       "    </tr>\n",
       "    <tr>\n",
       "      <th>1</th>\n",
       "      <td>Augmentin 625 Duo Tablet</td>\n",
       "      <td>[Amoxycillin(500mg), ClavulanicAcid(125mg)]</td>\n",
       "      <td>[Treatment, of, Bacterial, infections]</td>\n",
       "      <td>https://onemg.gumlet.io/l_watermark_346,w_480,...</td>\n",
       "      <td>Glaxo SmithKline Pharmaceuticals Ltd</td>\n",
       "      <td>47</td>\n",
       "      <td>35</td>\n",
       "      <td>18</td>\n",
       "      <td>3.58</td>\n",
       "    </tr>\n",
       "    <tr>\n",
       "      <th>2</th>\n",
       "      <td>Azithral 500 Tablet</td>\n",
       "      <td>[Azithromycin(500mg)]</td>\n",
       "      <td>[Treatment, of, Bacterial, infections]</td>\n",
       "      <td>https://onemg.gumlet.io/l_watermark_346,w_480,...</td>\n",
       "      <td>Alembic Pharmaceuticals Ltd</td>\n",
       "      <td>39</td>\n",
       "      <td>40</td>\n",
       "      <td>21</td>\n",
       "      <td>3.36</td>\n",
       "    </tr>\n",
       "    <tr>\n",
       "      <th>3</th>\n",
       "      <td>Ascoril LS Syrup</td>\n",
       "      <td>[Ambroxol(30mg/5ml), Levosalbutamol(1mg/5ml), ...</td>\n",
       "      <td>[Treatment, of, Cough, with, mucus]</td>\n",
       "      <td>https://onemg.gumlet.io/l_watermark_346,w_480,...</td>\n",
       "      <td>Glenmark Pharmaceuticals Ltd</td>\n",
       "      <td>24</td>\n",
       "      <td>41</td>\n",
       "      <td>35</td>\n",
       "      <td>2.78</td>\n",
       "    </tr>\n",
       "    <tr>\n",
       "      <th>4</th>\n",
       "      <td>Aciloc 150 Tablet</td>\n",
       "      <td>[Ranitidine(150mg)]</td>\n",
       "      <td>[Treatment, of, Gastroesophageal, reflux, dise...</td>\n",
       "      <td>https://onemg.gumlet.io/l_watermark_346,w_480,...</td>\n",
       "      <td>Cadila Pharmaceuticals Ltd</td>\n",
       "      <td>34</td>\n",
       "      <td>37</td>\n",
       "      <td>29</td>\n",
       "      <td>3.10</td>\n",
       "    </tr>\n",
       "  </tbody>\n",
       "</table>\n",
       "</div>"
      ],
      "text/plain": [
       "              Medicine Name  \\\n",
       "0   Avastin 400mg Injection   \n",
       "1  Augmentin 625 Duo Tablet   \n",
       "2       Azithral 500 Tablet   \n",
       "3          Ascoril LS Syrup   \n",
       "4         Aciloc 150 Tablet   \n",
       "\n",
       "                                         Composition  \\\n",
       "0                               [Bevacizumab(400mg)]   \n",
       "1        [Amoxycillin(500mg), ClavulanicAcid(125mg)]   \n",
       "2                              [Azithromycin(500mg)]   \n",
       "3  [Ambroxol(30mg/5ml), Levosalbutamol(1mg/5ml), ...   \n",
       "4                                [Ranitidine(150mg)]   \n",
       "\n",
       "                                                Uses  \\\n",
       "0  [Cancer, of, colon, and, rectum, Non-small, ce...   \n",
       "1             [Treatment, of, Bacterial, infections]   \n",
       "2             [Treatment, of, Bacterial, infections]   \n",
       "3                [Treatment, of, Cough, with, mucus]   \n",
       "4  [Treatment, of, Gastroesophageal, reflux, dise...   \n",
       "\n",
       "                                           Image URL  \\\n",
       "0  https://onemg.gumlet.io/l_watermark_346,w_480,...   \n",
       "1  https://onemg.gumlet.io/l_watermark_346,w_480,...   \n",
       "2  https://onemg.gumlet.io/l_watermark_346,w_480,...   \n",
       "3  https://onemg.gumlet.io/l_watermark_346,w_480,...   \n",
       "4  https://onemg.gumlet.io/l_watermark_346,w_480,...   \n",
       "\n",
       "                           Manufacturer  Excellent Review %  Average Review %  \\\n",
       "0          Roche Products India Pvt Ltd                  22                56   \n",
       "1  Glaxo SmithKline Pharmaceuticals Ltd                  47                35   \n",
       "2           Alembic Pharmaceuticals Ltd                  39                40   \n",
       "3          Glenmark Pharmaceuticals Ltd                  24                41   \n",
       "4            Cadila Pharmaceuticals Ltd                  34                37   \n",
       "\n",
       "   Poor Review %  Medicine Score  \n",
       "0             22            3.00  \n",
       "1             18            3.58  \n",
       "2             21            3.36  \n",
       "3             35            2.78  \n",
       "4             29            3.10  "
      ]
     },
     "execution_count": 22,
     "metadata": {},
     "output_type": "execute_result"
    }
   ],
   "source": [
    "meds.head()"
   ]
  },
  {
   "cell_type": "markdown",
   "id": "339d899d",
   "metadata": {
    "papermill": {
     "duration": 0.016685,
     "end_time": "2023-10-06T09:37:04.975023",
     "exception": false,
     "start_time": "2023-10-06T09:37:04.958338",
     "status": "completed"
    },
    "tags": []
   },
   "source": [
    "## EDA on Medicine Score "
   ]
  },
  {
   "cell_type": "code",
   "execution_count": 23,
   "id": "6ca85501",
   "metadata": {
    "execution": {
     "iopub.execute_input": "2023-10-06T09:37:05.012739Z",
     "iopub.status.busy": "2023-10-06T09:37:05.012085Z",
     "iopub.status.idle": "2023-10-06T09:37:05.020124Z",
     "shell.execute_reply": "2023-10-06T09:37:05.019303Z"
    },
    "papermill": {
     "duration": 0.028779,
     "end_time": "2023-10-06T09:37:05.022269",
     "exception": false,
     "start_time": "2023-10-06T09:37:04.993490",
     "status": "completed"
    },
    "tags": []
   },
   "outputs": [
    {
     "data": {
      "text/plain": [
       "Medicine Score\n",
       "4.34    910\n",
       "3.00    697\n",
       "5.00    610\n",
       "3.66    489\n",
       "1.66    421\n",
       "       ... \n",
       "4.62      1\n",
       "1.26      1\n",
       "1.62      1\n",
       "1.98      1\n",
       "1.38      1\n",
       "Name: count, Length: 166, dtype: int64"
      ]
     },
     "execution_count": 23,
     "metadata": {},
     "output_type": "execute_result"
    }
   ],
   "source": [
    "meds['Medicine Score'].value_counts()"
   ]
  },
  {
   "cell_type": "code",
   "execution_count": 24,
   "id": "a798c343",
   "metadata": {
    "execution": {
     "iopub.execute_input": "2023-10-06T09:37:05.058692Z",
     "iopub.status.busy": "2023-10-06T09:37:05.058033Z",
     "iopub.status.idle": "2023-10-06T09:37:05.063512Z",
     "shell.execute_reply": "2023-10-06T09:37:05.062717Z"
    },
    "papermill": {
     "duration": 0.026054,
     "end_time": "2023-10-06T09:37:05.065636",
     "exception": false,
     "start_time": "2023-10-06T09:37:05.039582",
     "status": "completed"
    },
    "tags": []
   },
   "outputs": [],
   "source": [
    "medicine_scores = list(meds['Medicine Score'].value_counts().keys())\n",
    "count_medicine_score = list(meds['Medicine Score'].value_counts())"
   ]
  },
  {
   "cell_type": "code",
   "execution_count": 25,
   "id": "4f3db814",
   "metadata": {
    "execution": {
     "iopub.execute_input": "2023-10-06T09:37:05.102386Z",
     "iopub.status.busy": "2023-10-06T09:37:05.102019Z",
     "iopub.status.idle": "2023-10-06T09:37:05.106902Z",
     "shell.execute_reply": "2023-10-06T09:37:05.105985Z"
    },
    "papermill": {
     "duration": 0.025712,
     "end_time": "2023-10-06T09:37:05.108794",
     "exception": false,
     "start_time": "2023-10-06T09:37:05.083082",
     "status": "completed"
    },
    "tags": []
   },
   "outputs": [],
   "source": [
    "index = []\n",
    "new_scores = []\n",
    "for i in medicine_scores:\n",
    "    if i>3.1:\n",
    "        index.append(medicine_scores.index(i))\n",
    "        new_scores.append(i)\n",
    "    else :\n",
    "        pass"
   ]
  },
  {
   "cell_type": "code",
   "execution_count": 26,
   "id": "3b89b5cc",
   "metadata": {
    "execution": {
     "iopub.execute_input": "2023-10-06T09:37:05.144787Z",
     "iopub.status.busy": "2023-10-06T09:37:05.144099Z",
     "iopub.status.idle": "2023-10-06T09:37:05.148140Z",
     "shell.execute_reply": "2023-10-06T09:37:05.147477Z"
    },
    "papermill": {
     "duration": 0.024403,
     "end_time": "2023-10-06T09:37:05.150102",
     "exception": false,
     "start_time": "2023-10-06T09:37:05.125699",
     "status": "completed"
    },
    "tags": []
   },
   "outputs": [],
   "source": [
    "scores_count = []\n",
    "for i in index:\n",
    "    scores_count.append(count_medicine_score[i])"
   ]
  },
  {
   "cell_type": "code",
   "execution_count": 27,
   "id": "648e13d2",
   "metadata": {
    "execution": {
     "iopub.execute_input": "2023-10-06T09:37:05.187403Z",
     "iopub.status.busy": "2023-10-06T09:37:05.186733Z",
     "iopub.status.idle": "2023-10-06T09:37:05.564284Z",
     "shell.execute_reply": "2023-10-06T09:37:05.563214Z"
    },
    "papermill": {
     "duration": 0.398517,
     "end_time": "2023-10-06T09:37:05.566301",
     "exception": false,
     "start_time": "2023-10-06T09:37:05.167784",
     "status": "completed"
    },
    "tags": []
   },
   "outputs": [
    {
     "data": {
      "image/png": "[encoded data removed]",
      "text/plain": [
       "<Figure size 1000x800 with 1 Axes>"
      ]
     },
     "metadata": {},
     "output_type": "display_data"
    }
   ],
   "source": [
    "plt.figure(figsize=(10,8))\n",
    "plt.bar(new_scores, scores_count, color = 'g')\n",
    "plt.grid(True)\n",
    "plt.title('Medicine Score Details')\n",
    "plt.xticks(rotation=90)\n",
    "plt.xlabel('Medicine Scores')\n",
    "plt.ylabel('Count Of Scores')\n",
    "plt.show()"
   ]
  },
  {
   "cell_type": "markdown",
   "id": "4a2a2212",
   "metadata": {
    "papermill": {
     "duration": 0.018176,
     "end_time": "2023-10-06T09:37:05.602930",
     "exception": false,
     "start_time": "2023-10-06T09:37:05.584754",
     "status": "completed"
    },
    "tags": []
   },
   "source": [
    "## Creating Tags combining composition and uses"
   ]
  },
  {
   "cell_type": "code",
   "execution_count": 28,
   "id": "d676498e",
   "metadata": {
    "execution": {
     "iopub.execute_input": "2023-10-06T09:37:05.639967Z",
     "iopub.status.busy": "2023-10-06T09:37:05.639655Z",
     "iopub.status.idle": "2023-10-06T09:37:05.736372Z",
     "shell.execute_reply": "2023-10-06T09:37:05.735403Z"
    },
    "papermill": {
     "duration": 0.117668,
     "end_time": "2023-10-06T09:37:05.738428",
     "exception": false,
     "start_time": "2023-10-06T09:37:05.620760",
     "status": "completed"
    },
    "tags": []
   },
   "outputs": [],
   "source": [
    "# Creating Tags column for medicines\n",
    "meds['tags'] = meds['Composition'] + meds['Uses']"
   ]
  },
  {
   "cell_type": "code",
   "execution_count": 29,
   "id": "47d505ba",
   "metadata": {
    "execution": {
     "iopub.execute_input": "2023-10-06T09:37:05.775784Z",
     "iopub.status.busy": "2023-10-06T09:37:05.774540Z",
     "iopub.status.idle": "2023-10-06T09:37:05.793267Z",
     "shell.execute_reply": "2023-10-06T09:37:05.792076Z"
    },
    "papermill": {
     "duration": 0.04003,
     "end_time": "2023-10-06T09:37:05.796029",
     "exception": false,
     "start_time": "2023-10-06T09:37:05.755999",
     "status": "completed"
    },
    "tags": []
   },
   "outputs": [
    {
     "data": {
      "text/html": [
       "<div>\n",
       "<style scoped>\n",
       "    .dataframe tbody tr th:only-of-type {\n",
       "        vertical-align: middle;\n",
       "    }\n",
       "\n",
       "    .dataframe tbody tr th {\n",
       "        vertical-align: top;\n",
       "    }\n",
       "\n",
       "    .dataframe thead th {\n",
       "        text-align: right;\n",
       "    }\n",
       "</style>\n",
       "<table border=\"1\" class=\"dataframe\">\n",
       "  <thead>\n",
       "    <tr style=\"text-align: right;\">\n",
       "      <th></th>\n",
       "      <th>Medicine Name</th>\n",
       "      <th>Composition</th>\n",
       "      <th>Uses</th>\n",
       "      <th>Image URL</th>\n",
       "      <th>Manufacturer</th>\n",
       "      <th>Excellent Review %</th>\n",
       "      <th>Average Review %</th>\n",
       "      <th>Poor Review %</th>\n",
       "      <th>Medicine Score</th>\n",
       "      <th>tags</th>\n",
       "    </tr>\n",
       "  </thead>\n",
       "  <tbody>\n",
       "    <tr>\n",
       "      <th>0</th>\n",
       "      <td>Avastin 400mg Injection</td>\n",
       "      <td>[Bevacizumab(400mg)]</td>\n",
       "      <td>[Cancer, of, colon, and, rectum, Non-small, ce...</td>\n",
       "      <td>https://onemg.gumlet.io/l_watermark_346,w_480,...</td>\n",
       "      <td>Roche Products India Pvt Ltd</td>\n",
       "      <td>22</td>\n",
       "      <td>56</td>\n",
       "      <td>22</td>\n",
       "      <td>3.00</td>\n",
       "      <td>[Bevacizumab(400mg), Cancer, of, colon, and, r...</td>\n",
       "    </tr>\n",
       "    <tr>\n",
       "      <th>1</th>\n",
       "      <td>Augmentin 625 Duo Tablet</td>\n",
       "      <td>[Amoxycillin(500mg), ClavulanicAcid(125mg)]</td>\n",
       "      <td>[Treatment, of, Bacterial, infections]</td>\n",
       "      <td>https://onemg.gumlet.io/l_watermark_346,w_480,...</td>\n",
       "      <td>Glaxo SmithKline Pharmaceuticals Ltd</td>\n",
       "      <td>47</td>\n",
       "      <td>35</td>\n",
       "      <td>18</td>\n",
       "      <td>3.58</td>\n",
       "      <td>[Amoxycillin(500mg), ClavulanicAcid(125mg), Tr...</td>\n",
       "    </tr>\n",
       "    <tr>\n",
       "      <th>2</th>\n",
       "      <td>Azithral 500 Tablet</td>\n",
       "      <td>[Azithromycin(500mg)]</td>\n",
       "      <td>[Treatment, of, Bacterial, infections]</td>\n",
       "      <td>https://onemg.gumlet.io/l_watermark_346,w_480,...</td>\n",
       "      <td>Alembic Pharmaceuticals Ltd</td>\n",
       "      <td>39</td>\n",
       "      <td>40</td>\n",
       "      <td>21</td>\n",
       "      <td>3.36</td>\n",
       "      <td>[Azithromycin(500mg), Treatment, of, Bacterial...</td>\n",
       "    </tr>\n",
       "    <tr>\n",
       "      <th>3</th>\n",
       "      <td>Ascoril LS Syrup</td>\n",
       "      <td>[Ambroxol(30mg/5ml), Levosalbutamol(1mg/5ml), ...</td>\n",
       "      <td>[Treatment, of, Cough, with, mucus]</td>\n",
       "      <td>https://onemg.gumlet.io/l_watermark_346,w_480,...</td>\n",
       "      <td>Glenmark Pharmaceuticals Ltd</td>\n",
       "      <td>24</td>\n",
       "      <td>41</td>\n",
       "      <td>35</td>\n",
       "      <td>2.78</td>\n",
       "      <td>[Ambroxol(30mg/5ml), Levosalbutamol(1mg/5ml), ...</td>\n",
       "    </tr>\n",
       "    <tr>\n",
       "      <th>4</th>\n",
       "      <td>Aciloc 150 Tablet</td>\n",
       "      <td>[Ranitidine(150mg)]</td>\n",
       "      <td>[Treatment, of, Gastroesophageal, reflux, dise...</td>\n",
       "      <td>https://onemg.gumlet.io/l_watermark_346,w_480,...</td>\n",
       "      <td>Cadila Pharmaceuticals Ltd</td>\n",
       "      <td>34</td>\n",
       "      <td>37</td>\n",
       "      <td>29</td>\n",
       "      <td>3.10</td>\n",
       "      <td>[Ranitidine(150mg), Treatment, of, Gastroesoph...</td>\n",
       "    </tr>\n",
       "  </tbody>\n",
       "</table>\n",
       "</div>"
      ],
      "text/plain": [
       "              Medicine Name  \\\n",
       "0   Avastin 400mg Injection   \n",
       "1  Augmentin 625 Duo Tablet   \n",
       "2       Azithral 500 Tablet   \n",
       "3          Ascoril LS Syrup   \n",
       "4         Aciloc 150 Tablet   \n",
       "\n",
       "                                         Composition  \\\n",
       "0                               [Bevacizumab(400mg)]   \n",
       "1        [Amoxycillin(500mg), ClavulanicAcid(125mg)]   \n",
       "2                              [Azithromycin(500mg)]   \n",
       "3  [Ambroxol(30mg/5ml), Levosalbutamol(1mg/5ml), ...   \n",
       "4                                [Ranitidine(150mg)]   \n",
       "\n",
       "                                                Uses  \\\n",
       "0  [Cancer, of, colon, and, rectum, Non-small, ce...   \n",
       "1             [Treatment, of, Bacterial, infections]   \n",
       "2             [Treatment, of, Bacterial, infections]   \n",
       "3                [Treatment, of, Cough, with, mucus]   \n",
       "4  [Treatment, of, Gastroesophageal, reflux, dise...   \n",
       "\n",
       "                                           Image URL  \\\n",
       "0  https://onemg.gumlet.io/l_watermark_346,w_480,...   \n",
       "1  https://onemg.gumlet.io/l_watermark_346,w_480,...   \n",
       "2  https://onemg.gumlet.io/l_watermark_346,w_480,...   \n",
       "3  https://onemg.gumlet.io/l_watermark_346,w_480,...   \n",
       "4  https://onemg.gumlet.io/l_watermark_346,w_480,...   \n",
       "\n",
       "                           Manufacturer  Excellent Review %  Average Review %  \\\n",
       "0          Roche Products India Pvt Ltd                  22                56   \n",
       "1  Glaxo SmithKline Pharmaceuticals Ltd                  47                35   \n",
       "2           Alembic Pharmaceuticals Ltd                  39                40   \n",
       "3          Glenmark Pharmaceuticals Ltd                  24                41   \n",
       "4            Cadila Pharmaceuticals Ltd                  34                37   \n",
       "\n",
       "   Poor Review %  Medicine Score  \\\n",
       "0             22            3.00   \n",
       "1             18            3.58   \n",
       "2             21            3.36   \n",
       "3             35            2.78   \n",
       "4             29            3.10   \n",
       "\n",
       "                                                tags  \n",
       "0  [Bevacizumab(400mg), Cancer, of, colon, and, r...  \n",
       "1  [Amoxycillin(500mg), ClavulanicAcid(125mg), Tr...  \n",
       "2  [Azithromycin(500mg), Treatment, of, Bacterial...  \n",
       "3  [Ambroxol(30mg/5ml), Levosalbutamol(1mg/5ml), ...  \n",
       "4  [Ranitidine(150mg), Treatment, of, Gastroesoph...  "
      ]
     },
     "execution_count": 29,
     "metadata": {},
     "output_type": "execute_result"
    }
   ],
   "source": [
    "meds.head()"
   ]
  },
  {
   "cell_type": "markdown",
   "id": "01630353",
   "metadata": {
    "papermill": {
     "duration": 0.017915,
     "end_time": "2023-10-06T09:37:05.832262",
     "exception": false,
     "start_time": "2023-10-06T09:37:05.814347",
     "status": "completed"
    },
    "tags": []
   },
   "source": [
    "## Creating dataframes with essential columns"
   ]
  },
  {
   "cell_type": "code",
   "execution_count": 30,
   "id": "4ddfc21c",
   "metadata": {
    "execution": {
     "iopub.execute_input": "2023-10-06T09:37:05.870639Z",
     "iopub.status.busy": "2023-10-06T09:37:05.869936Z",
     "iopub.status.idle": "2023-10-06T09:37:05.877097Z",
     "shell.execute_reply": "2023-10-06T09:37:05.876380Z"
    },
    "papermill": {
     "duration": 0.028769,
     "end_time": "2023-10-06T09:37:05.879289",
     "exception": false,
     "start_time": "2023-10-06T09:37:05.850520",
     "status": "completed"
    },
    "tags": []
   },
   "outputs": [],
   "source": [
    "new_df = meds[['Medicine Name', 'Uses' ,'Composition', 'tags', 'Manufacturer','Medicine Score', 'Image URL']]"
   ]
  },
  {
   "cell_type": "code",
   "execution_count": 31,
   "id": "4b561453",
   "metadata": {
    "execution": {
     "iopub.execute_input": "2023-10-06T09:37:05.916749Z",
     "iopub.status.busy": "2023-10-06T09:37:05.916072Z",
     "iopub.status.idle": "2023-10-06T09:37:05.927651Z",
     "shell.execute_reply": "2023-10-06T09:37:05.926746Z"
    },
    "papermill": {
     "duration": 0.032717,
     "end_time": "2023-10-06T09:37:05.929825",
     "exception": false,
     "start_time": "2023-10-06T09:37:05.897108",
     "status": "completed"
    },
    "tags": []
   },
   "outputs": [
    {
     "name": "stderr",
     "output_type": "stream",
     "text": [
      "/tmp/ipykernel_20/1840108476.py:2: SettingWithCopyWarning: \n",
      "A value is trying to be set on a copy of a slice from a DataFrame.\n",
      "Try using .loc[row_indexer,col_indexer] = value instead\n",
      "\n",
      "See the caveats in the documentation: https://pandas.pydata.org/pandas-docs/stable/user_guide/indexing.html#returning-a-view-versus-a-copy\n",
      "  new_df['tags'] = new_df['tags'].apply(lambda x:' '.join(x))\n"
     ]
    }
   ],
   "source": [
    "# converting tags column to string form so we can apply stemming\n",
    "new_df['tags'] = new_df['tags'].apply(lambda x:' '.join(x))"
   ]
  },
  {
   "cell_type": "code",
   "execution_count": 32,
   "id": "84af0fb9",
   "metadata": {
    "execution": {
     "iopub.execute_input": "2023-10-06T09:37:05.968359Z",
     "iopub.status.busy": "2023-10-06T09:37:05.968007Z",
     "iopub.status.idle": "2023-10-06T09:37:05.983647Z",
     "shell.execute_reply": "2023-10-06T09:37:05.982422Z"
    },
    "papermill": {
     "duration": 0.037801,
     "end_time": "2023-10-06T09:37:05.985809",
     "exception": false,
     "start_time": "2023-10-06T09:37:05.948008",
     "status": "completed"
    },
    "tags": []
   },
   "outputs": [
    {
     "data": {
      "text/html": [
       "<div>\n",
       "<style scoped>\n",
       "    .dataframe tbody tr th:only-of-type {\n",
       "        vertical-align: middle;\n",
       "    }\n",
       "\n",
       "    .dataframe tbody tr th {\n",
       "        vertical-align: top;\n",
       "    }\n",
       "\n",
       "    .dataframe thead th {\n",
       "        text-align: right;\n",
       "    }\n",
       "</style>\n",
       "<table border=\"1\" class=\"dataframe\">\n",
       "  <thead>\n",
       "    <tr style=\"text-align: right;\">\n",
       "      <th></th>\n",
       "      <th>Medicine Name</th>\n",
       "      <th>Uses</th>\n",
       "      <th>Composition</th>\n",
       "      <th>tags</th>\n",
       "      <th>Manufacturer</th>\n",
       "      <th>Medicine Score</th>\n",
       "      <th>Image URL</th>\n",
       "    </tr>\n",
       "  </thead>\n",
       "  <tbody>\n",
       "    <tr>\n",
       "      <th>0</th>\n",
       "      <td>Avastin 400mg Injection</td>\n",
       "      <td>[Cancer, of, colon, and, rectum, Non-small, ce...</td>\n",
       "      <td>[Bevacizumab(400mg)]</td>\n",
       "      <td>Bevacizumab(400mg) Cancer of colon and rectum ...</td>\n",
       "      <td>Roche Products India Pvt Ltd</td>\n",
       "      <td>3.00</td>\n",
       "      <td>https://onemg.gumlet.io/l_watermark_346,w_480,...</td>\n",
       "    </tr>\n",
       "    <tr>\n",
       "      <th>1</th>\n",
       "      <td>Augmentin 625 Duo Tablet</td>\n",
       "      <td>[Treatment, of, Bacterial, infections]</td>\n",
       "      <td>[Amoxycillin(500mg), ClavulanicAcid(125mg)]</td>\n",
       "      <td>Amoxycillin(500mg) ClavulanicAcid(125mg) Treat...</td>\n",
       "      <td>Glaxo SmithKline Pharmaceuticals Ltd</td>\n",
       "      <td>3.58</td>\n",
       "      <td>https://onemg.gumlet.io/l_watermark_346,w_480,...</td>\n",
       "    </tr>\n",
       "    <tr>\n",
       "      <th>2</th>\n",
       "      <td>Azithral 500 Tablet</td>\n",
       "      <td>[Treatment, of, Bacterial, infections]</td>\n",
       "      <td>[Azithromycin(500mg)]</td>\n",
       "      <td>Azithromycin(500mg) Treatment of Bacterial inf...</td>\n",
       "      <td>Alembic Pharmaceuticals Ltd</td>\n",
       "      <td>3.36</td>\n",
       "      <td>https://onemg.gumlet.io/l_watermark_346,w_480,...</td>\n",
       "    </tr>\n",
       "    <tr>\n",
       "      <th>3</th>\n",
       "      <td>Ascoril LS Syrup</td>\n",
       "      <td>[Treatment, of, Cough, with, mucus]</td>\n",
       "      <td>[Ambroxol(30mg/5ml), Levosalbutamol(1mg/5ml), ...</td>\n",
       "      <td>Ambroxol(30mg/5ml) Levosalbutamol(1mg/5ml) Gua...</td>\n",
       "      <td>Glenmark Pharmaceuticals Ltd</td>\n",
       "      <td>2.78</td>\n",
       "      <td>https://onemg.gumlet.io/l_watermark_346,w_480,...</td>\n",
       "    </tr>\n",
       "    <tr>\n",
       "      <th>4</th>\n",
       "      <td>Aciloc 150 Tablet</td>\n",
       "      <td>[Treatment, of, Gastroesophageal, reflux, dise...</td>\n",
       "      <td>[Ranitidine(150mg)]</td>\n",
       "      <td>Ranitidine(150mg) Treatment of Gastroesophagea...</td>\n",
       "      <td>Cadila Pharmaceuticals Ltd</td>\n",
       "      <td>3.10</td>\n",
       "      <td>https://onemg.gumlet.io/l_watermark_346,w_480,...</td>\n",
       "    </tr>\n",
       "  </tbody>\n",
       "</table>\n",
       "</div>"
      ],
      "text/plain": [
       "              Medicine Name  \\\n",
       "0   Avastin 400mg Injection   \n",
       "1  Augmentin 625 Duo Tablet   \n",
       "2       Azithral 500 Tablet   \n",
       "3          Ascoril LS Syrup   \n",
       "4         Aciloc 150 Tablet   \n",
       "\n",
       "                                                Uses  \\\n",
       "0  [Cancer, of, colon, and, rectum, Non-small, ce...   \n",
       "1             [Treatment, of, Bacterial, infections]   \n",
       "2             [Treatment, of, Bacterial, infections]   \n",
       "3                [Treatment, of, Cough, with, mucus]   \n",
       "4  [Treatment, of, Gastroesophageal, reflux, dise...   \n",
       "\n",
       "                                         Composition  \\\n",
       "0                               [Bevacizumab(400mg)]   \n",
       "1        [Amoxycillin(500mg), ClavulanicAcid(125mg)]   \n",
       "2                              [Azithromycin(500mg)]   \n",
       "3  [Ambroxol(30mg/5ml), Levosalbutamol(1mg/5ml), ...   \n",
       "4                                [Ranitidine(150mg)]   \n",
       "\n",
       "                                                tags  \\\n",
       "0  Bevacizumab(400mg) Cancer of colon and rectum ...   \n",
       "1  Amoxycillin(500mg) ClavulanicAcid(125mg) Treat...   \n",
       "2  Azithromycin(500mg) Treatment of Bacterial inf...   \n",
       "3  Ambroxol(30mg/5ml) Levosalbutamol(1mg/5ml) Gua...   \n",
       "4  Ranitidine(150mg) Treatment of Gastroesophagea...   \n",
       "\n",
       "                           Manufacturer  Medicine Score  \\\n",
       "0          Roche Products India Pvt Ltd            3.00   \n",
       "1  Glaxo SmithKline Pharmaceuticals Ltd            3.58   \n",
       "2           Alembic Pharmaceuticals Ltd            3.36   \n",
       "3          Glenmark Pharmaceuticals Ltd            2.78   \n",
       "4            Cadila Pharmaceuticals Ltd            3.10   \n",
       "\n",
       "                                           Image URL  \n",
       "0  https://onemg.gumlet.io/l_watermark_346,w_480,...  \n",
       "1  https://onemg.gumlet.io/l_watermark_346,w_480,...  \n",
       "2  https://onemg.gumlet.io/l_watermark_346,w_480,...  \n",
       "3  https://onemg.gumlet.io/l_watermark_346,w_480,...  \n",
       "4  https://onemg.gumlet.io/l_watermark_346,w_480,...  "
      ]
     },
     "execution_count": 32,
     "metadata": {},
     "output_type": "execute_result"
    }
   ],
   "source": [
    "new_df.head()"
   ]
  },
  {
   "cell_type": "code",
   "execution_count": 33,
   "id": "19fbbdbc",
   "metadata": {
    "execution": {
     "iopub.execute_input": "2023-10-06T09:37:06.025237Z",
     "iopub.status.busy": "2023-10-06T09:37:06.024818Z",
     "iopub.status.idle": "2023-10-06T09:37:06.031253Z",
     "shell.execute_reply": "2023-10-06T09:37:06.030218Z"
    },
    "papermill": {
     "duration": 0.029028,
     "end_time": "2023-10-06T09:37:06.033232",
     "exception": false,
     "start_time": "2023-10-06T09:37:06.004204",
     "status": "completed"
    },
    "tags": []
   },
   "outputs": [
    {
     "data": {
      "text/plain": [
       "'Amoxycillin(500mg) ClavulanicAcid(125mg) Treatment of Bacterial infections'"
      ]
     },
     "execution_count": 33,
     "metadata": {},
     "output_type": "execute_result"
    }
   ],
   "source": [
    "new_df['tags'][1]"
   ]
  },
  {
   "cell_type": "code",
   "execution_count": 34,
   "id": "3b4f3cae",
   "metadata": {
    "execution": {
     "iopub.execute_input": "2023-10-06T09:37:06.073907Z",
     "iopub.status.busy": "2023-10-06T09:37:06.073275Z",
     "iopub.status.idle": "2023-10-06T09:37:06.086269Z",
     "shell.execute_reply": "2023-10-06T09:37:06.084766Z"
    },
    "papermill": {
     "duration": 0.037113,
     "end_time": "2023-10-06T09:37:06.088921",
     "exception": false,
     "start_time": "2023-10-06T09:37:06.051808",
     "status": "completed"
    },
    "tags": []
   },
   "outputs": [
    {
     "name": "stderr",
     "output_type": "stream",
     "text": [
      "/tmp/ipykernel_20/1802928144.py:2: SettingWithCopyWarning: \n",
      "A value is trying to be set on a copy of a slice from a DataFrame.\n",
      "Try using .loc[row_indexer,col_indexer] = value instead\n",
      "\n",
      "See the caveats in the documentation: https://pandas.pydata.org/pandas-docs/stable/user_guide/indexing.html#returning-a-view-versus-a-copy\n",
      "  new_df['tags'] = new_df['tags'].apply(lambda x:x.lower())\n"
     ]
    }
   ],
   "source": [
    "# converting tags column to lowerr case\n",
    "new_df['tags'] = new_df['tags'].apply(lambda x:x.lower())"
   ]
  },
  {
   "cell_type": "code",
   "execution_count": 35,
   "id": "108a74ab",
   "metadata": {
    "execution": {
     "iopub.execute_input": "2023-10-06T09:37:06.128845Z",
     "iopub.status.busy": "2023-10-06T09:37:06.127978Z",
     "iopub.status.idle": "2023-10-06T09:37:06.142097Z",
     "shell.execute_reply": "2023-10-06T09:37:06.141250Z"
    },
    "papermill": {
     "duration": 0.036319,
     "end_time": "2023-10-06T09:37:06.144217",
     "exception": false,
     "start_time": "2023-10-06T09:37:06.107898",
     "status": "completed"
    },
    "tags": []
   },
   "outputs": [
    {
     "data": {
      "text/html": [
       "<div>\n",
       "<style scoped>\n",
       "    .dataframe tbody tr th:only-of-type {\n",
       "        vertical-align: middle;\n",
       "    }\n",
       "\n",
       "    .dataframe tbody tr th {\n",
       "        vertical-align: top;\n",
       "    }\n",
       "\n",
       "    .dataframe thead th {\n",
       "        text-align: right;\n",
       "    }\n",
       "</style>\n",
       "<table border=\"1\" class=\"dataframe\">\n",
       "  <thead>\n",
       "    <tr style=\"text-align: right;\">\n",
       "      <th></th>\n",
       "      <th>Medicine Name</th>\n",
       "      <th>Uses</th>\n",
       "      <th>Composition</th>\n",
       "      <th>tags</th>\n",
       "      <th>Manufacturer</th>\n",
       "      <th>Medicine Score</th>\n",
       "      <th>Image URL</th>\n",
       "    </tr>\n",
       "  </thead>\n",
       "  <tbody>\n",
       "    <tr>\n",
       "      <th>0</th>\n",
       "      <td>Avastin 400mg Injection</td>\n",
       "      <td>[Cancer, of, colon, and, rectum, Non-small, ce...</td>\n",
       "      <td>[Bevacizumab(400mg)]</td>\n",
       "      <td>bevacizumab(400mg) cancer of colon and rectum ...</td>\n",
       "      <td>Roche Products India Pvt Ltd</td>\n",
       "      <td>3.00</td>\n",
       "      <td>https://onemg.gumlet.io/l_watermark_346,w_480,...</td>\n",
       "    </tr>\n",
       "    <tr>\n",
       "      <th>1</th>\n",
       "      <td>Augmentin 625 Duo Tablet</td>\n",
       "      <td>[Treatment, of, Bacterial, infections]</td>\n",
       "      <td>[Amoxycillin(500mg), ClavulanicAcid(125mg)]</td>\n",
       "      <td>amoxycillin(500mg) clavulanicacid(125mg) treat...</td>\n",
       "      <td>Glaxo SmithKline Pharmaceuticals Ltd</td>\n",
       "      <td>3.58</td>\n",
       "      <td>https://onemg.gumlet.io/l_watermark_346,w_480,...</td>\n",
       "    </tr>\n",
       "    <tr>\n",
       "      <th>2</th>\n",
       "      <td>Azithral 500 Tablet</td>\n",
       "      <td>[Treatment, of, Bacterial, infections]</td>\n",
       "      <td>[Azithromycin(500mg)]</td>\n",
       "      <td>azithromycin(500mg) treatment of bacterial inf...</td>\n",
       "      <td>Alembic Pharmaceuticals Ltd</td>\n",
       "      <td>3.36</td>\n",
       "      <td>https://onemg.gumlet.io/l_watermark_346,w_480,...</td>\n",
       "    </tr>\n",
       "    <tr>\n",
       "      <th>3</th>\n",
       "      <td>Ascoril LS Syrup</td>\n",
       "      <td>[Treatment, of, Cough, with, mucus]</td>\n",
       "      <td>[Ambroxol(30mg/5ml), Levosalbutamol(1mg/5ml), ...</td>\n",
       "      <td>ambroxol(30mg/5ml) levosalbutamol(1mg/5ml) gua...</td>\n",
       "      <td>Glenmark Pharmaceuticals Ltd</td>\n",
       "      <td>2.78</td>\n",
       "      <td>https://onemg.gumlet.io/l_watermark_346,w_480,...</td>\n",
       "    </tr>\n",
       "    <tr>\n",
       "      <th>4</th>\n",
       "      <td>Aciloc 150 Tablet</td>\n",
       "      <td>[Treatment, of, Gastroesophageal, reflux, dise...</td>\n",
       "      <td>[Ranitidine(150mg)]</td>\n",
       "      <td>ranitidine(150mg) treatment of gastroesophagea...</td>\n",
       "      <td>Cadila Pharmaceuticals Ltd</td>\n",
       "      <td>3.10</td>\n",
       "      <td>https://onemg.gumlet.io/l_watermark_346,w_480,...</td>\n",
       "    </tr>\n",
       "  </tbody>\n",
       "</table>\n",
       "</div>"
      ],
      "text/plain": [
       "              Medicine Name  \\\n",
       "0   Avastin 400mg Injection   \n",
       "1  Augmentin 625 Duo Tablet   \n",
       "2       Azithral 500 Tablet   \n",
       "3          Ascoril LS Syrup   \n",
       "4         Aciloc 150 Tablet   \n",
       "\n",
       "                                                Uses  \\\n",
       "0  [Cancer, of, colon, and, rectum, Non-small, ce...   \n",
       "1             [Treatment, of, Bacterial, infections]   \n",
       "2             [Treatment, of, Bacterial, infections]   \n",
       "3                [Treatment, of, Cough, with, mucus]   \n",
       "4  [Treatment, of, Gastroesophageal, reflux, dise...   \n",
       "\n",
       "                                         Composition  \\\n",
       "0                               [Bevacizumab(400mg)]   \n",
       "1        [Amoxycillin(500mg), ClavulanicAcid(125mg)]   \n",
       "2                              [Azithromycin(500mg)]   \n",
       "3  [Ambroxol(30mg/5ml), Levosalbutamol(1mg/5ml), ...   \n",
       "4                                [Ranitidine(150mg)]   \n",
       "\n",
       "                                                tags  \\\n",
       "0  bevacizumab(400mg) cancer of colon and rectum ...   \n",
       "1  amoxycillin(500mg) clavulanicacid(125mg) treat...   \n",
       "2  azithromycin(500mg) treatment of bacterial inf...   \n",
       "3  ambroxol(30mg/5ml) levosalbutamol(1mg/5ml) gua...   \n",
       "4  ranitidine(150mg) treatment of gastroesophagea...   \n",
       "\n",
       "                           Manufacturer  Medicine Score  \\\n",
       "0          Roche Products India Pvt Ltd            3.00   \n",
       "1  Glaxo SmithKline Pharmaceuticals Ltd            3.58   \n",
       "2           Alembic Pharmaceuticals Ltd            3.36   \n",
       "3          Glenmark Pharmaceuticals Ltd            2.78   \n",
       "4            Cadila Pharmaceuticals Ltd            3.10   \n",
       "\n",
       "                                           Image URL  \n",
       "0  https://onemg.gumlet.io/l_watermark_346,w_480,...  \n",
       "1  https://onemg.gumlet.io/l_watermark_346,w_480,...  \n",
       "2  https://onemg.gumlet.io/l_watermark_346,w_480,...  \n",
       "3  https://onemg.gumlet.io/l_watermark_346,w_480,...  \n",
       "4  https://onemg.gumlet.io/l_watermark_346,w_480,...  "
      ]
     },
     "execution_count": 35,
     "metadata": {},
     "output_type": "execute_result"
    }
   ],
   "source": [
    "new_df.head()"
   ]
  },
  {
   "cell_type": "code",
   "execution_count": 36,
   "id": "70045c75",
   "metadata": {
    "execution": {
     "iopub.execute_input": "2023-10-06T09:37:06.184264Z",
     "iopub.status.busy": "2023-10-06T09:37:06.183558Z",
     "iopub.status.idle": "2023-10-06T09:37:06.191076Z",
     "shell.execute_reply": "2023-10-06T09:37:06.189850Z"
    },
    "papermill": {
     "duration": 0.030634,
     "end_time": "2023-10-06T09:37:06.193600",
     "exception": false,
     "start_time": "2023-10-06T09:37:06.162966",
     "status": "completed"
    },
    "tags": []
   },
   "outputs": [
    {
     "name": "stderr",
     "output_type": "stream",
     "text": [
      "/tmp/ipykernel_20/2788549837.py:1: SettingWithCopyWarning: \n",
      "A value is trying to be set on a copy of a slice from a DataFrame\n",
      "\n",
      "See the caveats in the documentation: https://pandas.pydata.org/pandas-docs/stable/user_guide/indexing.html#returning-a-view-versus-a-copy\n",
      "  new_df.rename(columns = {'Medicine Name':'Name', }, inplace = True)\n",
      "/tmp/ipykernel_20/2788549837.py:2: SettingWithCopyWarning: \n",
      "A value is trying to be set on a copy of a slice from a DataFrame\n",
      "\n",
      "See the caveats in the documentation: https://pandas.pydata.org/pandas-docs/stable/user_guide/indexing.html#returning-a-view-versus-a-copy\n",
      "  new_df.rename(columns = {'Medicine Score':'Score'}, inplace = True)\n",
      "/tmp/ipykernel_20/2788549837.py:3: SettingWithCopyWarning: \n",
      "A value is trying to be set on a copy of a slice from a DataFrame\n",
      "\n",
      "See the caveats in the documentation: https://pandas.pydata.org/pandas-docs/stable/user_guide/indexing.html#returning-a-view-versus-a-copy\n",
      "  new_df.rename(columns = {'Image URL':'img_url', }, inplace = True)\n"
     ]
    }
   ],
   "source": [
    "new_df.rename(columns = {'Medicine Name':'Name', }, inplace = True)\n",
    "new_df.rename(columns = {'Medicine Score':'Score'}, inplace = True)\n",
    "new_df.rename(columns = {'Image URL':'img_url', }, inplace = True)"
   ]
  },
  {
   "cell_type": "code",
   "execution_count": 37,
   "id": "f2b06d32",
   "metadata": {
    "execution": {
     "iopub.execute_input": "2023-10-06T09:37:06.234341Z",
     "iopub.status.busy": "2023-10-06T09:37:06.233489Z",
     "iopub.status.idle": "2023-10-06T09:37:06.249092Z",
     "shell.execute_reply": "2023-10-06T09:37:06.248300Z"
    },
    "papermill": {
     "duration": 0.038864,
     "end_time": "2023-10-06T09:37:06.251337",
     "exception": false,
     "start_time": "2023-10-06T09:37:06.212473",
     "status": "completed"
    },
    "tags": []
   },
   "outputs": [
    {
     "data": {
      "text/html": [
       "<div>\n",
       "<style scoped>\n",
       "    .dataframe tbody tr th:only-of-type {\n",
       "        vertical-align: middle;\n",
       "    }\n",
       "\n",
       "    .dataframe tbody tr th {\n",
       "        vertical-align: top;\n",
       "    }\n",
       "\n",
       "    .dataframe thead th {\n",
       "        text-align: right;\n",
       "    }\n",
       "</style>\n",
       "<table border=\"1\" class=\"dataframe\">\n",
       "  <thead>\n",
       "    <tr style=\"text-align: right;\">\n",
       "      <th></th>\n",
       "      <th>Name</th>\n",
       "      <th>Uses</th>\n",
       "      <th>Composition</th>\n",
       "      <th>tags</th>\n",
       "      <th>Manufacturer</th>\n",
       "      <th>Score</th>\n",
       "      <th>img_url</th>\n",
       "    </tr>\n",
       "  </thead>\n",
       "  <tbody>\n",
       "    <tr>\n",
       "      <th>0</th>\n",
       "      <td>Avastin 400mg Injection</td>\n",
       "      <td>[Cancer, of, colon, and, rectum, Non-small, ce...</td>\n",
       "      <td>[Bevacizumab(400mg)]</td>\n",
       "      <td>bevacizumab(400mg) cancer of colon and rectum ...</td>\n",
       "      <td>Roche Products India Pvt Ltd</td>\n",
       "      <td>3.00</td>\n",
       "      <td>https://onemg.gumlet.io/l_watermark_346,w_480,...</td>\n",
       "    </tr>\n",
       "    <tr>\n",
       "      <th>1</th>\n",
       "      <td>Augmentin 625 Duo Tablet</td>\n",
       "      <td>[Treatment, of, Bacterial, infections]</td>\n",
       "      <td>[Amoxycillin(500mg), ClavulanicAcid(125mg)]</td>\n",
       "      <td>amoxycillin(500mg) clavulanicacid(125mg) treat...</td>\n",
       "      <td>Glaxo SmithKline Pharmaceuticals Ltd</td>\n",
       "      <td>3.58</td>\n",
       "      <td>https://onemg.gumlet.io/l_watermark_346,w_480,...</td>\n",
       "    </tr>\n",
       "    <tr>\n",
       "      <th>2</th>\n",
       "      <td>Azithral 500 Tablet</td>\n",
       "      <td>[Treatment, of, Bacterial, infections]</td>\n",
       "      <td>[Azithromycin(500mg)]</td>\n",
       "      <td>azithromycin(500mg) treatment of bacterial inf...</td>\n",
       "      <td>Alembic Pharmaceuticals Ltd</td>\n",
       "      <td>3.36</td>\n",
       "      <td>https://onemg.gumlet.io/l_watermark_346,w_480,...</td>\n",
       "    </tr>\n",
       "    <tr>\n",
       "      <th>3</th>\n",
       "      <td>Ascoril LS Syrup</td>\n",
       "      <td>[Treatment, of, Cough, with, mucus]</td>\n",
       "      <td>[Ambroxol(30mg/5ml), Levosalbutamol(1mg/5ml), ...</td>\n",
       "      <td>ambroxol(30mg/5ml) levosalbutamol(1mg/5ml) gua...</td>\n",
       "      <td>Glenmark Pharmaceuticals Ltd</td>\n",
       "      <td>2.78</td>\n",
       "      <td>https://onemg.gumlet.io/l_watermark_346,w_480,...</td>\n",
       "    </tr>\n",
       "    <tr>\n",
       "      <th>4</th>\n",
       "      <td>Aciloc 150 Tablet</td>\n",
       "      <td>[Treatment, of, Gastroesophageal, reflux, dise...</td>\n",
       "      <td>[Ranitidine(150mg)]</td>\n",
       "      <td>ranitidine(150mg) treatment of gastroesophagea...</td>\n",
       "      <td>Cadila Pharmaceuticals Ltd</td>\n",
       "      <td>3.10</td>\n",
       "      <td>https://onemg.gumlet.io/l_watermark_346,w_480,...</td>\n",
       "    </tr>\n",
       "  </tbody>\n",
       "</table>\n",
       "</div>"
      ],
      "text/plain": [
       "                       Name  \\\n",
       "0   Avastin 400mg Injection   \n",
       "1  Augmentin 625 Duo Tablet   \n",
       "2       Azithral 500 Tablet   \n",
       "3          Ascoril LS Syrup   \n",
       "4         Aciloc 150 Tablet   \n",
       "\n",
       "                                                Uses  \\\n",
       "0  [Cancer, of, colon, and, rectum, Non-small, ce...   \n",
       "1             [Treatment, of, Bacterial, infections]   \n",
       "2             [Treatment, of, Bacterial, infections]   \n",
       "3                [Treatment, of, Cough, with, mucus]   \n",
       "4  [Treatment, of, Gastroesophageal, reflux, dise...   \n",
       "\n",
       "                                         Composition  \\\n",
       "0                               [Bevacizumab(400mg)]   \n",
       "1        [Amoxycillin(500mg), ClavulanicAcid(125mg)]   \n",
       "2                              [Azithromycin(500mg)]   \n",
       "3  [Ambroxol(30mg/5ml), Levosalbutamol(1mg/5ml), ...   \n",
       "4                                [Ranitidine(150mg)]   \n",
       "\n",
       "                                                tags  \\\n",
       "0  bevacizumab(400mg) cancer of colon and rectum ...   \n",
       "1  amoxycillin(500mg) clavulanicacid(125mg) treat...   \n",
       "2  azithromycin(500mg) treatment of bacterial inf...   \n",
       "3  ambroxol(30mg/5ml) levosalbutamol(1mg/5ml) gua...   \n",
       "4  ranitidine(150mg) treatment of gastroesophagea...   \n",
       "\n",
       "                           Manufacturer  Score  \\\n",
       "0          Roche Products India Pvt Ltd   3.00   \n",
       "1  Glaxo SmithKline Pharmaceuticals Ltd   3.58   \n",
       "2           Alembic Pharmaceuticals Ltd   3.36   \n",
       "3          Glenmark Pharmaceuticals Ltd   2.78   \n",
       "4            Cadila Pharmaceuticals Ltd   3.10   \n",
       "\n",
       "                                             img_url  \n",
       "0  https://onemg.gumlet.io/l_watermark_346,w_480,...  \n",
       "1  https://onemg.gumlet.io/l_watermark_346,w_480,...  \n",
       "2  https://onemg.gumlet.io/l_watermark_346,w_480,...  \n",
       "3  https://onemg.gumlet.io/l_watermark_346,w_480,...  \n",
       "4  https://onemg.gumlet.io/l_watermark_346,w_480,...  "
      ]
     },
     "execution_count": 37,
     "metadata": {},
     "output_type": "execute_result"
    }
   ],
   "source": [
    "new_df.head()"
   ]
  },
  {
   "cell_type": "markdown",
   "id": "11fb7656",
   "metadata": {
    "papermill": {
     "duration": 0.020366,
     "end_time": "2023-10-06T09:37:06.291258",
     "exception": false,
     "start_time": "2023-10-06T09:37:06.270892",
     "status": "completed"
    },
    "tags": []
   },
   "source": [
    "## Applying Stemming process"
   ]
  },
  {
   "cell_type": "code",
   "execution_count": 38,
   "id": "fb64c102",
   "metadata": {
    "execution": {
     "iopub.execute_input": "2023-10-06T09:37:06.331497Z",
     "iopub.status.busy": "2023-10-06T09:37:06.330675Z",
     "iopub.status.idle": "2023-10-06T09:37:08.499093Z",
     "shell.execute_reply": "2023-10-06T09:37:08.497852Z"
    },
    "papermill": {
     "duration": 2.191231,
     "end_time": "2023-10-06T09:37:08.501661",
     "exception": false,
     "start_time": "2023-10-06T09:37:06.310430",
     "status": "completed"
    },
    "tags": []
   },
   "outputs": [],
   "source": [
    "import nltk\n",
    "from nltk.stem.porter import PorterStemmer\n",
    "ps = PorterStemmer()"
   ]
  },
  {
   "cell_type": "code",
   "execution_count": 39,
   "id": "274aaf95",
   "metadata": {
    "execution": {
     "iopub.execute_input": "2023-10-06T09:37:08.544485Z",
     "iopub.status.busy": "2023-10-06T09:37:08.544038Z",
     "iopub.status.idle": "2023-10-06T09:37:08.549564Z",
     "shell.execute_reply": "2023-10-06T09:37:08.548242Z"
    },
    "papermill": {
     "duration": 0.028812,
     "end_time": "2023-10-06T09:37:08.551864",
     "exception": false,
     "start_time": "2023-10-06T09:37:08.523052",
     "status": "completed"
    },
    "tags": []
   },
   "outputs": [],
   "source": [
    "def stem(text):\n",
    "    y = []\n",
    "    for i in text.split():\n",
    "        y.append(ps.stem(i))\n",
    "        \n",
    "    return \" \".join(y)"
   ]
  },
  {
   "cell_type": "code",
   "execution_count": 40,
   "id": "539c6df2",
   "metadata": {
    "execution": {
     "iopub.execute_input": "2023-10-06T09:37:08.594534Z",
     "iopub.status.busy": "2023-10-06T09:37:08.593959Z",
     "iopub.status.idle": "2023-10-06T09:37:10.078136Z",
     "shell.execute_reply": "2023-10-06T09:37:10.077323Z"
    },
    "papermill": {
     "duration": 1.508681,
     "end_time": "2023-10-06T09:37:10.080270",
     "exception": false,
     "start_time": "2023-10-06T09:37:08.571589",
     "status": "completed"
    },
    "tags": []
   },
   "outputs": [
    {
     "name": "stderr",
     "output_type": "stream",
     "text": [
      "/tmp/ipykernel_20/3213734980.py:1: SettingWithCopyWarning: \n",
      "A value is trying to be set on a copy of a slice from a DataFrame.\n",
      "Try using .loc[row_indexer,col_indexer] = value instead\n",
      "\n",
      "See the caveats in the documentation: https://pandas.pydata.org/pandas-docs/stable/user_guide/indexing.html#returning-a-view-versus-a-copy\n",
      "  new_df['tags'] = new_df['tags'].apply(stem)\n"
     ]
    }
   ],
   "source": [
    "new_df['tags'] = new_df['tags'].apply(stem)"
   ]
  },
  {
   "cell_type": "markdown",
   "id": "e003a2c6",
   "metadata": {
    "papermill": {
     "duration": 0.020083,
     "end_time": "2023-10-06T09:37:10.119677",
     "exception": false,
     "start_time": "2023-10-06T09:37:10.099594",
     "status": "completed"
    },
    "tags": []
   },
   "source": [
    "## Feature Vectorization"
   ]
  },
  {
   "cell_type": "code",
   "execution_count": 41,
   "id": "3f7ac6cb",
   "metadata": {
    "execution": {
     "iopub.execute_input": "2023-10-06T09:37:10.164139Z",
     "iopub.status.busy": "2023-10-06T09:37:10.163269Z",
     "iopub.status.idle": "2023-10-06T09:37:10.167962Z",
     "shell.execute_reply": "2023-10-06T09:37:10.167090Z"
    },
    "papermill": {
     "duration": 0.02948,
     "end_time": "2023-10-06T09:37:10.170124",
     "exception": false,
     "start_time": "2023-10-06T09:37:10.140644",
     "status": "completed"
    },
    "tags": []
   },
   "outputs": [],
   "source": [
    "from sklearn.feature_extraction.text import CountVectorizer\n",
    "cv = CountVectorizer(max_features = 5000, stop_words='english')"
   ]
  },
  {
   "cell_type": "code",
   "execution_count": 42,
   "id": "cbffbc67",
   "metadata": {
    "execution": {
     "iopub.execute_input": "2023-10-06T09:37:10.213480Z",
     "iopub.status.busy": "2023-10-06T09:37:10.212785Z",
     "iopub.status.idle": "2023-10-06T09:37:10.516465Z",
     "shell.execute_reply": "2023-10-06T09:37:10.515447Z"
    },
    "papermill": {
     "duration": 0.329278,
     "end_time": "2023-10-06T09:37:10.519137",
     "exception": false,
     "start_time": "2023-10-06T09:37:10.189859",
     "status": "completed"
    },
    "tags": []
   },
   "outputs": [],
   "source": [
    "vector  = cv.fit_transform(new_df['tags']).toarray()"
   ]
  },
  {
   "cell_type": "code",
   "execution_count": 43,
   "id": "23475b76",
   "metadata": {
    "execution": {
     "iopub.execute_input": "2023-10-06T09:37:10.562493Z",
     "iopub.status.busy": "2023-10-06T09:37:10.561787Z",
     "iopub.status.idle": "2023-10-06T09:37:10.568192Z",
     "shell.execute_reply": "2023-10-06T09:37:10.567405Z"
    },
    "papermill": {
     "duration": 0.030385,
     "end_time": "2023-10-06T09:37:10.570306",
     "exception": false,
     "start_time": "2023-10-06T09:37:10.539921",
     "status": "completed"
    },
    "tags": []
   },
   "outputs": [
    {
     "data": {
      "text/plain": [
       "2137"
      ]
     },
     "execution_count": 43,
     "metadata": {},
     "output_type": "execute_result"
    }
   ],
   "source": [
    "len(vector[0])"
   ]
  },
  {
   "cell_type": "code",
   "execution_count": 44,
   "id": "5480a2e3",
   "metadata": {
    "execution": {
     "iopub.execute_input": "2023-10-06T09:37:10.612806Z",
     "iopub.status.busy": "2023-10-06T09:37:10.612042Z",
     "iopub.status.idle": "2023-10-06T09:37:10.618897Z",
     "shell.execute_reply": "2023-10-06T09:37:10.618237Z"
    },
    "papermill": {
     "duration": 0.030027,
     "end_time": "2023-10-06T09:37:10.620672",
     "exception": false,
     "start_time": "2023-10-06T09:37:10.590645",
     "status": "completed"
    },
    "tags": []
   },
   "outputs": [
    {
     "data": {
      "text/plain": [
       "2137"
      ]
     },
     "execution_count": 44,
     "metadata": {},
     "output_type": "execute_result"
    }
   ],
   "source": [
    "len(cv.get_feature_names_out())"
   ]
  },
  {
   "cell_type": "code",
   "execution_count": 45,
   "id": "d503485a",
   "metadata": {
    "execution": {
     "iopub.execute_input": "2023-10-06T09:37:10.661851Z",
     "iopub.status.busy": "2023-10-06T09:37:10.661454Z",
     "iopub.status.idle": "2023-10-06T09:37:10.666407Z",
     "shell.execute_reply": "2023-10-06T09:37:10.665579Z"
    },
    "papermill": {
     "duration": 0.028751,
     "end_time": "2023-10-06T09:37:10.668525",
     "exception": false,
     "start_time": "2023-10-06T09:37:10.639774",
     "status": "completed"
    },
    "tags": []
   },
   "outputs": [],
   "source": [
    "from sklearn.metrics.pairwise import cosine_similarity"
   ]
  },
  {
   "cell_type": "code",
   "execution_count": 46,
   "id": "91df707f",
   "metadata": {
    "execution": {
     "iopub.execute_input": "2023-10-06T09:37:10.713906Z",
     "iopub.status.busy": "2023-10-06T09:37:10.712769Z",
     "iopub.status.idle": "2023-10-06T09:37:16.366877Z",
     "shell.execute_reply": "2023-10-06T09:37:16.365525Z"
    },
    "papermill": {
     "duration": 5.679678,
     "end_time": "2023-10-06T09:37:16.369329",
     "exception": false,
     "start_time": "2023-10-06T09:37:10.689651",
     "status": "completed"
    },
    "tags": []
   },
   "outputs": [],
   "source": [
    "similarity = cosine_similarity(vector)"
   ]
  },
  {
   "cell_type": "code",
   "execution_count": 47,
   "id": "39cde163",
   "metadata": {
    "execution": {
     "iopub.execute_input": "2023-10-06T09:37:16.411839Z",
     "iopub.status.busy": "2023-10-06T09:37:16.411321Z",
     "iopub.status.idle": "2023-10-06T09:37:16.418072Z",
     "shell.execute_reply": "2023-10-06T09:37:16.416877Z"
    },
    "papermill": {
     "duration": 0.030636,
     "end_time": "2023-10-06T09:37:16.420170",
     "exception": false,
     "start_time": "2023-10-06T09:37:16.389534",
     "status": "completed"
    },
    "tags": []
   },
   "outputs": [
    {
     "data": {
      "text/plain": [
       "(11825, 11825)"
      ]
     },
     "execution_count": 47,
     "metadata": {},
     "output_type": "execute_result"
    }
   ],
   "source": [
    "similarity.shape"
   ]
  },
  {
   "cell_type": "code",
   "execution_count": 48,
   "id": "20744508",
   "metadata": {
    "execution": {
     "iopub.execute_input": "2023-10-06T09:37:16.461253Z",
     "iopub.status.busy": "2023-10-06T09:37:16.460710Z",
     "iopub.status.idle": "2023-10-06T09:37:16.472931Z",
     "shell.execute_reply": "2023-10-06T09:37:16.471825Z"
    },
    "papermill": {
     "duration": 0.035395,
     "end_time": "2023-10-06T09:37:16.475205",
     "exception": false,
     "start_time": "2023-10-06T09:37:16.439810",
     "status": "completed"
    },
    "tags": []
   },
   "outputs": [
    {
     "data": {
      "text/plain": [
       "[(3289, 0.8111071056538128),\n",
       " (6735, 0.6936879756192961),\n",
       " (1739, 0.6847623832623259),\n",
       " (1740, 0.6847623832623259),\n",
       " (11749, 0.6847623832623259)]"
      ]
     },
     "execution_count": 48,
     "metadata": {},
     "output_type": "execute_result"
    }
   ],
   "source": [
    "sorted(list(enumerate(similarity[0])), reverse = True, key = lambda x:x[1])[1:6]"
   ]
  },
  {
   "cell_type": "code",
   "execution_count": 49,
   "id": "908897eb",
   "metadata": {
    "execution": {
     "iopub.execute_input": "2023-10-06T09:37:16.514830Z",
     "iopub.status.busy": "2023-10-06T09:37:16.514262Z",
     "iopub.status.idle": "2023-10-06T09:37:16.523601Z",
     "shell.execute_reply": "2023-10-06T09:37:16.520452Z"
    },
    "papermill": {
     "duration": 0.032418,
     "end_time": "2023-10-06T09:37:16.526435",
     "exception": false,
     "start_time": "2023-10-06T09:37:16.494017",
     "status": "completed"
    },
    "tags": []
   },
   "outputs": [],
   "source": [
    "# Recommendations based on medicine name\n",
    "def recommend(medicine):\n",
    "    recommended_medicine = []\n",
    "    med_index = new_df[new_df['Name'] == medicine].index[0]\n",
    "    distances = similarity[med_index]\n",
    "    med_list = sorted(list(enumerate(distances)), reverse = True, key = lambda x:x[1])[1:51]\n",
    "    for i in med_list:\n",
    "        recommended_medicine.append([new_df.iloc[i[0]].Name, new_df.iloc[i[0]].Score])\n",
    "\n",
    "    recommendations = sorted(recommended_medicine,reverse = True, key = lambda x:x[1])\n",
    "    seen = set()\n",
    "    recommended_medicines = [x for x in recommendations if tuple(x) not in seen and not seen.add(tuple(x))]\n",
    "    \n",
    "    for i in recommended_medicines:\n",
    "        print(i)\n",
    "    "
   ]
  },
  {
   "cell_type": "code",
   "execution_count": 50,
   "id": "585723e7",
   "metadata": {
    "execution": {
     "iopub.execute_input": "2023-10-06T09:37:16.566981Z",
     "iopub.status.busy": "2023-10-06T09:37:16.566262Z",
     "iopub.status.idle": "2023-10-06T09:37:16.590426Z",
     "shell.execute_reply": "2023-10-06T09:37:16.588634Z"
    },
    "papermill": {
     "duration": 0.047056,
     "end_time": "2023-10-06T09:37:16.592643",
     "exception": false,
     "start_time": "2023-10-06T09:37:16.545587",
     "status": "completed"
    },
    "tags": []
   },
   "outputs": [
    {
     "name": "stdout",
     "output_type": "stream",
     "text": [
      "['Azithral 500mg Injection', 5.0]\n",
      "['Azithral Eye Drop', 4.66]\n",
      "['Azee 1000 Tablet', 4.66]\n",
      "['Aziquest 500mg Tablet', 4.34]\n",
      "['Azee 100mg Tablet DT', 4.34]\n",
      "['Azithral KidTab', 4.34]\n",
      "['Zatura 500 Tablet', 4.16]\n",
      "['Azee 250 Tablet', 3.98]\n",
      "['Aziwok 600 Tablet', 3.88]\n",
      "['Azimax 250 Tablet', 3.68]\n",
      "['Azimax 500 Tablet', 3.66]\n",
      "['Azee 250 Tablet', 3.64]\n",
      "['Azee 500 Tablet', 3.52]\n",
      "['Altacef 500 Tablet', 3.4]\n",
      "['Ibithral 500mg Tablet', 3.38]\n",
      "['Zithrolect 500 Tablet', 3.34]\n",
      "['Alevo 500 Tablet', 3.34]\n",
      "['Hhazi 500 Tablet', 3.32]\n",
      "['Uthral 500mg Tablet', 3.32]\n",
      "['ATM 500 Tablet', 3.28]\n",
      "['Azikem 500mg Tablet', 3.26]\n",
      "['Azee 500 Tablet', 3.24]\n",
      "['Trulimax 500mg Tablet', 3.22]\n",
      "['Zathrin 500 Tablet', 3.22]\n",
      "['Azax 500 Tablet', 3.16]\n",
      "['Almox 500 Capsule', 3.12]\n",
      "['Aziwok 500 Tablet', 3.04]\n",
      "['Azicip 500 Tablet', 3.02]\n",
      "['Althrocin 500 Tablet', 3.0]\n",
      "['Azax 250 Tablet', 3.0]\n",
      "['Azifast 250 Tablet', 3.0]\n",
      "['Azifast 500 Tablet', 2.98]\n",
      "['Azimax 500 Tablet', 2.96]\n",
      "['Zady 500 Tablet', 2.86]\n",
      "['Azibact 500 Tablet', 2.84]\n",
      "['Azithral Eye Ointment', 2.78]\n",
      "['Alciflox 500mg Tablet', 2.78]\n",
      "['Azifast Gel', 2.76]\n",
      "['Zithium 500 Tablet', 2.74]\n",
      "['Azicip 250 Tablet', 2.74]\n",
      "['Azibest 500mg Tablet', 2.68]\n",
      "['Aziwok 250 Tablet', 2.62]\n",
      "['Azivent 500 Tablet', 2.42]\n",
      "['Aziwin 500 Tablet', 2.34]\n",
      "['Zithrocin 500mg Tablet', 2.34]\n",
      "['Azilide 500 Tablet', 2.16]\n",
      "['Zeethrom 500 Tablet', 2.1]\n",
      "['Aziclass 200mg Syrup', 2.0]\n",
      "['Ecothral 500mg Tablet', 1.84]\n",
      "['Macrozac 500 Tablet', 1.0]\n"
     ]
    }
   ],
   "source": [
    "recommend('Azithral 500 Tablet')\n",
    "# Here output in in the form of medicine name and it's score"
   ]
  },
  {
   "cell_type": "code",
   "execution_count": 51,
   "id": "5b358229",
   "metadata": {
    "execution": {
     "iopub.execute_input": "2023-10-06T09:37:16.633900Z",
     "iopub.status.busy": "2023-10-06T09:37:16.632778Z",
     "iopub.status.idle": "2023-10-06T09:37:16.640668Z",
     "shell.execute_reply": "2023-10-06T09:37:16.639500Z"
    },
    "papermill": {
     "duration": 0.031085,
     "end_time": "2023-10-06T09:37:16.643093",
     "exception": false,
     "start_time": "2023-10-06T09:37:16.612008",
     "status": "completed"
    },
    "tags": []
   },
   "outputs": [],
   "source": [
    "# Recommendations based on medicine composition\n",
    "\n",
    "def recommend_medicine(composition_queries):\n",
    "    recommendations = []\n",
    "\n",
    "    # Check for medicines that contain all specified compositions\n",
    "    for index, row in new_df.iterrows():\n",
    "        composition = row['Composition']\n",
    "        if isinstance(composition, list):\n",
    "            # Check if all composition items are present in the medicine\n",
    "            if all(query.lower() in ' '.join(composition).lower() for query in composition_queries):\n",
    "                recommendations.append([row['Name'],  row['Score']])\n",
    "\n",
    "   \n",
    "\n",
    "    if recommendations:\n",
    "        # Remove duplicates and return the recommendations\n",
    "        medicine_list = sorted(recommendations, reverse = True, key = lambda x:x[1])[:50]\n",
    "        seen = set()\n",
    "        recommended_medicines = [x for x in medicine_list if tuple(x) not in seen and not seen.add(tuple(x))]\n",
    "        return recommended_medicines\n",
    "    else:\n",
    "        return \"No matching medicines found.\"\n",
    "\n",
    "# Example usage:\n",
    "# recommended_medicines = recommend_medicine([\"Amoxycillin(500mg)\", \"ClavulanicAcid(125mg)\"])\n",
    "# print(recommended_medicines)\n"
   ]
  },
  {
   "cell_type": "code",
   "execution_count": 52,
   "id": "03c3959c",
   "metadata": {
    "execution": {
     "iopub.execute_input": "2023-10-06T09:37:16.686450Z",
     "iopub.status.busy": "2023-10-06T09:37:16.685182Z",
     "iopub.status.idle": "2023-10-06T09:37:17.317611Z",
     "shell.execute_reply": "2023-10-06T09:37:17.316529Z"
    },
    "papermill": {
     "duration": 0.657264,
     "end_time": "2023-10-06T09:37:17.319969",
     "exception": false,
     "start_time": "2023-10-06T09:37:16.662705",
     "status": "completed"
    },
    "tags": []
   },
   "outputs": [
    {
     "data": {
      "text/plain": [
       "[['Evoxil CV 500mg/125mg Tablet', 5.0],\n",
       " ['Lmx Forte 500mg/125mg Tablet', 5.0],\n",
       " ['Goldclav 625 Tablet', 4.34],\n",
       " ['Lacom-CV 625 Tablet', 4.34],\n",
       " ['Oro-CV 625 Tablet', 4.12],\n",
       " ['Erox CV 625 Tablet', 4.0],\n",
       " ['Tresmox CV 500mg/125mg Tablet', 3.88],\n",
       " ['Zovax CV 625 Tablet', 3.66],\n",
       " ['Bactoclav 625 Tablet', 3.62],\n",
       " ['Novamox CV 625mg Tablet', 3.6],\n",
       " ['Xoclave 625 Tablet', 3.6],\n",
       " ['Augmentin 625 Duo Tablet', 3.58],\n",
       " ['Advent 625 Tablet', 3.56],\n",
       " ['Acuclav 625 Tablet', 3.52],\n",
       " ['Polyclav 625mg Tablet', 3.52],\n",
       " ['Pexoclav 625 Tablet', 3.46],\n",
       " ['Rapiclav 625 Tablet', 3.44],\n",
       " ['Novaclav 625 Tablet', 3.38],\n",
       " ['Moxikind-CV 625 Tablet', 3.34],\n",
       " ['Amoxyclav 625 Tablet', 3.3],\n",
       " ['Sensiclav 625 Tablet', 3.28],\n",
       " ['Augpen 625 BID Tablet', 3.16],\n",
       " ['Hhamclav 625 Tablet', 3.16],\n",
       " ['Penclav 625 Tablet', 3.14],\n",
       " ['Mega-CV 625 Tablet', 3.06],\n",
       " ['Mox CV 625 Tablet', 3.06],\n",
       " ['Mpx-CV 625 Tablet', 3.0],\n",
       " ['Miliclav Tablet', 3.0],\n",
       " ['Moxiforce-CV 625 Tablet', 2.92],\n",
       " ['Moxclav 625 Tablet', 2.88],\n",
       " ['Augpen LB 625 Tablet', 2.82],\n",
       " ['Ampoxin-CV 500mg/125mg Tablet', 2.78],\n",
       " ['Megamentin 625 Tablet', 2.72],\n",
       " ['Symbiotik XL 625 Tablet', 2.66],\n",
       " ['Indclav 625 Tablet', 2.56],\n",
       " ['Omniclav 625 Tablet', 2.46],\n",
       " ['Ampilox CV 500 mg/125 mg Tablet', 2.1],\n",
       " ['Novaclav 625 Tablet', 2.0],\n",
       " ['Starclav 625 Tablet', 1.66],\n",
       " ['Amclaid 625 Tablet', 1.0],\n",
       " ['Princiclav 500 mg/125 mg Tablet', 1.0]]"
      ]
     },
     "execution_count": 52,
     "metadata": {},
     "output_type": "execute_result"
    }
   ],
   "source": [
    "recommend_medicine([\"Amoxycillin(500mg)\", \"ClavulanicAcid(125mg)\"])"
   ]
  },
  {
   "cell_type": "code",
   "execution_count": 53,
   "id": "84a35b5d",
   "metadata": {
    "execution": {
     "iopub.execute_input": "2023-10-06T09:37:17.360460Z",
     "iopub.status.busy": "2023-10-06T09:37:17.359560Z",
     "iopub.status.idle": "2023-10-06T09:37:17.367013Z",
     "shell.execute_reply": "2023-10-06T09:37:17.366290Z"
    },
    "papermill": {
     "duration": 0.029883,
     "end_time": "2023-10-06T09:37:17.369059",
     "exception": false,
     "start_time": "2023-10-06T09:37:17.339176",
     "status": "completed"
    },
    "tags": []
   },
   "outputs": [],
   "source": [
    "def recommend_medicine1(use_query):\n",
    "    recommendations = []\n",
    "\n",
    "    # Check for medicines that contain all specified compositions\n",
    "    for index, row in new_df.iterrows():\n",
    "        use = row['Uses']\n",
    "        if isinstance(use, list):\n",
    "            # Check if all composition items are present in the medicine\n",
    "            if all(query.lower() in ' '.join(use).lower() for query in use_query):\n",
    "                recommendations.append([row['Name'],  row['Score']])\n",
    "\n",
    "   \n",
    "\n",
    "    if recommendations:\n",
    "        # Remove duplicates and return the recommendations\n",
    "        medicine_list = sorted(recommendations, reverse = True, key = lambda x:x[1])[:50]\n",
    "        seen = set()\n",
    "        recommended_medicines = [x for x in medicine_list if tuple(x) not in seen and not seen.add(tuple(x))]\n",
    "        return recommended_medicines\n",
    "    else:\n",
    "        return \"No medicines found for this disease.\""
   ]
  },
  {
   "cell_type": "code",
   "execution_count": 54,
   "id": "eb9ad2cb",
   "metadata": {
    "execution": {
     "iopub.execute_input": "2023-10-06T09:37:17.409775Z",
     "iopub.status.busy": "2023-10-06T09:37:17.409205Z",
     "iopub.status.idle": "2023-10-06T09:37:18.079090Z",
     "shell.execute_reply": "2023-10-06T09:37:18.077940Z"
    },
    "papermill": {
     "duration": 0.693505,
     "end_time": "2023-10-06T09:37:18.081727",
     "exception": false,
     "start_time": "2023-10-06T09:37:17.388222",
     "status": "completed"
    },
    "tags": []
   },
   "outputs": [
    {
     "data": {
      "text/plain": [
       "[['Azep Nasal Spray', 5.0],\n",
       " ['Alz Plus  Tablet', 5.0],\n",
       " ['Exocast Tablet', 5.0],\n",
       " ['Emimont 5mg/10mg Tablet', 5.0],\n",
       " ['Fexolife M 10 mg/120 mg Tablet', 5.0],\n",
       " ['Levocet M Syrup', 5.0],\n",
       " ['Montas-L', 5.0],\n",
       " ['Momefit Nasal Spray', 5.0],\n",
       " ['Momenta 50mcg Nasal Spray', 5.0],\n",
       " ['Montark-L Tablet', 5.0],\n",
       " ['Orpa Nasal Spray', 5.0],\n",
       " ['Romilast L 5 Tablet', 5.0],\n",
       " ['Romilast L Syrup', 5.0],\n",
       " ['Recofast LM Tablet', 5.0],\n",
       " ['Zeemont 5mg/10mg Tablet', 5.0],\n",
       " ['Ancer LM Syrup', 4.66],\n",
       " ['Ebmont FX 10mg/120mg Tablet', 4.66],\n",
       " ['Romilast 5mg Tablet MD', 4.66],\n",
       " ['Alday Duo 5mg/10mg Tablet', 4.56],\n",
       " ['Pilot M 10mg/120mg Tablet', 4.56],\n",
       " ['Respizen Nasal Spray', 4.56],\n",
       " ['Levocet M Kid Tablet MD', 4.5],\n",
       " ['Lekast Tablet', 4.5],\n",
       " ['Alorti-M Tablet', 4.34],\n",
       " ['Afineday Tablet', 4.34],\n",
       " ['Admont-LC Tablet', 4.34],\n",
       " ['Airkast-FX Tablet', 4.34],\n",
       " ['Ebonte-M Tablet', 4.34],\n",
       " ['L-Hist Mont Syrup', 4.34],\n",
       " ['Lit M Tablet', 4.34],\n",
       " ['Levokon-M Tablet', 4.34],\n",
       " ['Levotiz-M Tablet', 4.34],\n",
       " ['LCZ-Mont Suspension', 4.34],\n",
       " ['Makair Tablet', 4.34],\n",
       " ['Monteshine F 10mg/120mg Tablet', 4.34],\n",
       " ['Monti-DL Tablet', 4.34],\n",
       " ['Minolast Kid 2.5mg/4mg Tablet', 4.34],\n",
       " ['Nazomac-M Nasal Spray', 4.34],\n",
       " ['Oriel-M Tablet', 4.34],\n",
       " ['Ryno Nasal Spray', 4.34],\n",
       " ['Smarti-M Tablet', 4.34],\n",
       " ['Sino Nasal Spray', 4.34],\n",
       " ['Telekast-L Kid Tablet', 4.34],\n",
       " ['Telekast 4 Chewable Tablet', 4.34],\n",
       " ['Uniair FX Tablet', 4.34],\n",
       " ['Vitaresp FX 30 Oral Suspension Mango', 4.34],\n",
       " ['X-Mont LC Tablet', 4.34],\n",
       " ['Zelgra 180 Tablet', 4.34],\n",
       " ['Emlukast-FX Tablet', 4.2],\n",
       " ['Levosiz-M Tablet', 4.18]]"
      ]
     },
     "execution_count": 54,
     "metadata": {},
     "output_type": "execute_result"
    }
   ],
   "source": [
    "recommend_medicine1(['Sneezing'])"
   ]
  },
  {
   "cell_type": "code",
   "execution_count": 55,
   "id": "8184f25e",
   "metadata": {
    "execution": {
     "iopub.execute_input": "2023-10-06T09:37:18.123910Z",
     "iopub.status.busy": "2023-10-06T09:37:18.123535Z",
     "iopub.status.idle": "2023-10-06T09:37:18.126985Z",
     "shell.execute_reply": "2023-10-06T09:37:18.126249Z"
    },
    "papermill": {
     "duration": 0.02675,
     "end_time": "2023-10-06T09:37:18.128720",
     "exception": false,
     "start_time": "2023-10-06T09:37:18.101970",
     "status": "completed"
    },
    "tags": []
   },
   "outputs": [],
   "source": [
    "# In this project we recommend medicines in three ways\n",
    "# - Based on Medicine Name\n",
    "# - Based on Medicine Composition\n",
    "# - Based on Disease"
   ]
  }
 ],
 "metadata": {
  "kernelspec": {
   "display_name": "Python 3",
   "language": "python",
   "name": "python3"
  },
  "language_info": {
   "codemirror_mode": {
    "name": "ipython",
    "version": 3
   },
   "file_extension": ".py",
   "mimetype": "text/x-python",
   "name": "python",
   "nbconvert_exporter": "python",
   "pygments_lexer": "ipython3",
   "version": "3.10.12"
  },
  "papermill": {
   "default_parameters": {},
   "duration": 20.05758,
   "end_time": "2023-10-06T09:37:18.869478",
   "environment_variables": {},
   "exception": null,
   "input_path": "__notebook__.ipynb",
   "output_path": "__notebook__.ipynb",
   "parameters": {},
   "start_time": "2023-10-06T09:36:58.811898",
   "version": "2.4.0"
  }
 },
 "nbformat": 4,
 "nbformat_minor": 5
}
